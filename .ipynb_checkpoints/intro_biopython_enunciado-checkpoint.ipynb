{
 "cells": [
  {
   "cell_type": "markdown",
   "metadata": {},
   "source": [
    "# Bioinformática y Análisis Genómico\n",
    "# 4º curso Grado en Bioquímica - Mención en Biotecnología\n",
    "# Curso 2023/2024\n",
    "## Práctica 2: Introducción a Biopython\n",
    "\n"
   ]
  },
  {
   "cell_type": "markdown",
   "metadata": {},
   "source": [
    "**Biopython** https://biopython.org/ es un conjunto de herramientas de libre acceso para la biología computacional escritas en Python por un equipo internacional de desarrolladores.\n",
    "\n",
    "Se trata de un esfuerzo de colaboración distribuido para desarrollar bibliotecas y aplicaciones en Python que satisfagan las necesidades del trabajo actual y futuro en bioinformática."
   ]
  },
  {
   "cell_type": "markdown",
   "metadata": {},
   "source": [
    "En esta práctica se va a aprender a instalar y utilizar Biopython en un entorno de Anaconda.\n"
   ]
  },
  {
   "cell_type": "markdown",
   "metadata": {},
   "source": [
    "## Instalación de Biopython en un entorno de Anaconda\n",
    "Debemos instalarnos biopython para poder acceder a los distintos paquetes (librerías) que ofrece. Al igual que antes de instalarnos cualquier paquete de bioconductor en R debíamos instalarnos el paquete general de Bioconductor.\n",
    "\n",
    "* Requisitos: Una instalación de *Anaconda* (Ya lo tenemos)\n",
    "* Abrir un terminal en Linux o Mac, o bien ejecutar el programa *Anaconda Prompt* en Windows\n",
    "* Crear un nuevo entorno de Python con Biopython llamado *bioinformatics* mediante el comando:\n",
    "    * **conda create -n bioinformatics biopython**\n",
    "* Activar el entorno creado\n",
    "    * **conda activate bioinformatics**\n",
    "* Es necesario volver a instalar jupyter para el entorno creado\n",
    "    * **conda install jupyter**\n",
    "* Iniciar jupyter\n",
    "    * **jupyter notebook**"
   ]
  },
  {
   "cell_type": "markdown",
   "metadata": {},
   "source": [
    "## Importacion de bibiotecas y funciones\n",
    "\n",
    "El paquete principal de Biopython se llama Bio, conteniendo diferentes subpaquetes con diversa funcionalidad.\n",
    "Consultad https://biopython.org/wiki/Documentation para más información.\n",
    "\n",
    "Vamos a importar una serie de subpaquetes de Bio, así comprobaremos si la instalación se ha hecho correctamente."
   ]
  },
  {
   "cell_type": "code",
   "execution_count": 2,
   "metadata": {},
   "outputs": [
    {
     "ename": "ModuleNotFoundError",
     "evalue": "No module named 'Bio'",
     "output_type": "error",
     "traceback": [
      "\u001b[0;31m---------------------------------------------------------------------------\u001b[0m",
      "\u001b[0;31mModuleNotFoundError\u001b[0m                       Traceback (most recent call last)",
      "\u001b[0;32m<ipython-input-2-339d445d5b15>\u001b[0m in \u001b[0;36m<module>\u001b[0;34m\u001b[0m\n\u001b[0;32m----> 1\u001b[0;31m \u001b[0;32mfrom\u001b[0m \u001b[0mBio\u001b[0m \u001b[0;32mimport\u001b[0m \u001b[0mEntrez\u001b[0m\u001b[0;34m,\u001b[0m \u001b[0mSeq\u001b[0m\u001b[0;34m,\u001b[0m \u001b[0mSeqIO\u001b[0m\u001b[0;34m\u001b[0m\u001b[0;34m\u001b[0m\u001b[0m\n\u001b[0m",
      "\u001b[0;31mModuleNotFoundError\u001b[0m: No module named 'Bio'"
     ]
    }
   ],
   "source": [
    "from Bio import Entrez, Seq, SeqIO"
   ]
  },
  {
   "cell_type": "markdown",
   "metadata": {},
   "source": [
    "## Interacción con Bases de Datos\n",
    "\n",
    "Una de las facilidades que aporta este paquete es que podemos interaccionar con bases de datos como el NCBI. Por ejemplo, podemos acceder a una secuencia subida al NCBI desde aquí. Para ello usaremos la librería *Entrez*.\n",
    "\n"
   ]
  },
  {
   "cell_type": "markdown",
   "metadata": {},
   "source": [
    "Para usar cualquier función de una librería siempre se sigue la siguiente estructura: librería.función(argumentos). Entrez es la librería a la que queremos acceder, lo que viene después del punto es la funcion.\n",
    "\n",
    "Con la librería *Entrez* se crean objetos de clase handle. Son objetos que no se pueden imprimir por pantalla como texto, pues son literalmente \"wrappers\", es decir, agrupan mucha información de distinta índole. Se selecciona qué hacer con los handlers de Entrez dependiendo de la información que quieras extraer de ellos.\n",
    "Para extraer la información que tengan en texto plano se usa .read"
   ]
  },
  {
   "cell_type": "code",
   "execution_count": 1,
   "metadata": {},
   "outputs": [
    {
     "ename": "NameError",
     "evalue": "name 'Entrez' is not defined",
     "output_type": "error",
     "traceback": [
      "\u001b[0;31m---------------------------------------------------------------------------\u001b[0m",
      "\u001b[0;31mNameError\u001b[0m                                 Traceback (most recent call last)",
      "\u001b[0;32m<ipython-input-1-9dbc5c800f1c>\u001b[0m in \u001b[0;36m<module>\u001b[0;34m\u001b[0m\n\u001b[1;32m      1\u001b[0m \u001b[0;31m# Estas lineas nos dan un listado de bases de datos disponibles\u001b[0m\u001b[0;34m\u001b[0m\u001b[0;34m\u001b[0m\u001b[0;34m\u001b[0m\u001b[0m\n\u001b[0;32m----> 2\u001b[0;31m \u001b[0mhandle\u001b[0m \u001b[0;34m=\u001b[0m \u001b[0mEntrez\u001b[0m\u001b[0;34m.\u001b[0m\u001b[0meinfo\u001b[0m\u001b[0;34m(\u001b[0m\u001b[0;34m)\u001b[0m\u001b[0;34m\u001b[0m\u001b[0;34m\u001b[0m\u001b[0m\n\u001b[0m\u001b[1;32m      3\u001b[0m \u001b[0mrec\u001b[0m \u001b[0;34m=\u001b[0m \u001b[0mEntrez\u001b[0m\u001b[0;34m.\u001b[0m\u001b[0mread\u001b[0m\u001b[0;34m(\u001b[0m\u001b[0mhandle\u001b[0m\u001b[0;34m)\u001b[0m\u001b[0;34m\u001b[0m\u001b[0;34m\u001b[0m\u001b[0m\n\u001b[1;32m      4\u001b[0m \u001b[0mprint\u001b[0m\u001b[0;34m(\u001b[0m\u001b[0mrec\u001b[0m\u001b[0;34m)\u001b[0m\u001b[0;34m\u001b[0m\u001b[0;34m\u001b[0m\u001b[0m\n",
      "\u001b[0;31mNameError\u001b[0m: name 'Entrez' is not defined"
     ]
    }
   ],
   "source": [
    "# Estas lineas nos dan un listado de bases de datos disponibles\n",
    "handle = Entrez.einfo() \n",
    "rec = Entrez.read(handle)\n",
    "print(rec)\n"
   ]
  },
  {
   "cell_type": "markdown",
   "metadata": {},
   "source": [
    "Vamos a buscar una secuencia por Accesion number y obtenerla en formato FASTA.\n",
    "*.efetch* es la funcion de Entrez para buscar."
   ]
  },
  {
   "cell_type": "code",
   "execution_count": 3,
   "metadata": {},
   "outputs": [
    {
     "ename": "NameError",
     "evalue": "name 'Entrez' is not defined",
     "output_type": "error",
     "traceback": [
      "\u001b[0;31m---------------------------------------------------------------------------\u001b[0m",
      "\u001b[0;31mNameError\u001b[0m                                 Traceback (most recent call last)",
      "\u001b[0;32m<ipython-input-3-4cc1bc47493f>\u001b[0m in \u001b[0;36m<module>\u001b[0;34m\u001b[0m\n\u001b[0;32m----> 1\u001b[0;31m \u001b[0mhdl\u001b[0m \u001b[0;34m=\u001b[0m \u001b[0mEntrez\u001b[0m\u001b[0;34m.\u001b[0m\u001b[0mefetch\u001b[0m\u001b[0;34m(\u001b[0m\u001b[0mdb\u001b[0m\u001b[0;34m=\u001b[0m\u001b[0;34m'nucleotide'\u001b[0m\u001b[0;34m,\u001b[0m \u001b[0mid\u001b[0m\u001b[0;34m=\u001b[0m\u001b[0;34m[\u001b[0m\u001b[0;34m'NM_002299'\u001b[0m\u001b[0;34m]\u001b[0m\u001b[0;34m,\u001b[0m \u001b[0mrettype\u001b[0m\u001b[0;34m=\u001b[0m\u001b[0;34m'fasta'\u001b[0m\u001b[0;34m)\u001b[0m  \u001b[0;31m# Lactase gene\u001b[0m\u001b[0;34m\u001b[0m\u001b[0;34m\u001b[0m\u001b[0m\n\u001b[0m\u001b[1;32m      2\u001b[0m \u001b[0;34m\u001b[0m\u001b[0m\n\u001b[1;32m      3\u001b[0m \u001b[0;31m#De nuevo la información está en forma de handle.\u001b[0m\u001b[0;34m\u001b[0m\u001b[0;34m\u001b[0m\u001b[0;34m\u001b[0m\u001b[0m\n\u001b[1;32m      4\u001b[0m \u001b[0;31m#Se traduce a fasta usando la librería SeqIO, su función .parse\u001b[0m\u001b[0;34m\u001b[0m\u001b[0;34m\u001b[0m\u001b[0;34m\u001b[0m\u001b[0m\n\u001b[1;32m      5\u001b[0m \u001b[0mrecs\u001b[0m \u001b[0;34m=\u001b[0m \u001b[0mlist\u001b[0m\u001b[0;34m(\u001b[0m\u001b[0mSeqIO\u001b[0m\u001b[0;34m.\u001b[0m\u001b[0mparse\u001b[0m\u001b[0;34m(\u001b[0m\u001b[0mhdl\u001b[0m\u001b[0;34m,\u001b[0m \u001b[0;34m'fasta'\u001b[0m\u001b[0;34m)\u001b[0m\u001b[0;34m)\u001b[0m\u001b[0;34m\u001b[0m\u001b[0;34m\u001b[0m\u001b[0m\n",
      "\u001b[0;31mNameError\u001b[0m: name 'Entrez' is not defined"
     ]
    }
   ],
   "source": [
    "hdl = Entrez.efetch(db='nucleotide', id=['NM_002299'], rettype='fasta')  # Lactase gene\n",
    "\n",
    "#De nuevo la información está en forma de handle.\n",
    "#Se traduce a fasta usando la librería SeqIO, su función .parse\n",
    "recs = list(SeqIO.parse(hdl, 'fasta'))\n",
    "\n",
    "# Recordemos que un FASTA puede tener diversas secuencias (separado en crosomas, CDSs, etc.)\n",
    "#Aunque en este caso solo hay una\n",
    "for rec in recs:\n",
    "    print(rec)"
   ]
  },
  {
   "cell_type": "code",
   "execution_count": 11,
   "metadata": {},
   "outputs": [
    {
     "data": {
      "text/plain": [
       "1"
      ]
     },
     "execution_count": 11,
     "metadata": {},
     "output_type": "execute_result"
    }
   ],
   "source": [
    "#Vamos a salvar el FASTA en un fichero\n",
    "SeqIO.write(recs, \"lactase.fasta\", \"fasta\")"
   ]
  },
  {
   "cell_type": "code",
   "execution_count": 12,
   "metadata": {},
   "outputs": [],
   "source": [
    "#Igualmente, podemos leer un fichero\n",
    "lactase = list(SeqIO.parse(\"lactase.fasta\", \"fasta\"))"
   ]
  },
  {
   "cell_type": "code",
   "execution_count": 13,
   "metadata": {},
   "outputs": [
    {
     "name": "stdout",
     "output_type": "stream",
     "text": [
      "[SeqRecord(seq=Seq('AACAGTTCCTAGAAAATGGAGCTGTCTTGGCATGTAGTCTTTATTGCCCTGCTA...GTC'), id='NM_002299.4', name='NM_002299.4', description='NM_002299.4 Homo sapiens lactase (LCT), mRNA', dbxrefs=[])]\n",
      "[SeqRecord(seq=Seq('AACAGTTCCTAGAAAATGGAGCTGTCTTGGCATGTAGTCTTTATTGCCCTGCTA...GTC'), id='NM_002299.4', name='NM_002299.4', description='NM_002299.4 Homo sapiens lactase (LCT), mRNA', dbxrefs=[])]\n"
     ]
    }
   ],
   "source": [
    "# La variable lactase contiene el FASTA leido, la variable recs contiene el FASTA descargado (son iguales)\n",
    "print(lactase)\n",
    "print(recs)"
   ]
  },
  {
   "cell_type": "code",
   "execution_count": 14,
   "metadata": {},
   "outputs": [
    {
     "name": "stdout",
     "output_type": "stream",
     "text": [
      "AACAGTTCCTAGAAAATGGAGCTGTCTTGGCATGTAGTCTTTATTGCCCTGCTAAGTTTTTCATGCTGGGGGTCAGACTGGGAGTCTGATAGAAATTTCATTTCCACCGCTGGTCCTCTAACCAATGACTTGCTGCACAACCTGAGTGGTCTCCTGGGAGACCAGAGTTCTAACTTTGTAGCAGGGGACAAAGACATGTATGTTTGTCACCAGCCACTGCCCACTTTCCTGCCAGAATACTTCAGCAGTCTCCATGCCAGTCAGATCACCCATTATAAGGTATTTCTGTCATGGGCACAGCTCCTCCCAGCAGGAAGCACCCAGAATCCAGACGAGAAAACAGTGCAGTGCTACCGGCGACTCCTCAAGGCCCTCAAGACTGCACGGCTTCAGCCCATGGTCATCCTGCACCACCAGACCCTCCCTGCCAGCACCCTCCGGAGAACCGAAGCCTTTGCTGACCTCTTCGCCGACTATGCCACATTCGCCTTCCACTCCTTCGGGGACCTAGTTGGGATCTGGTTCACCTTCAGTGACTTGGAGGAAGTGATCAAGGAGCTTCCCCACCAGGAATCAAGAGCGTCACAACTCCAGACCCTCAGTGATGCCCACAGAAAAGCCTATGAGATTTACCACGAAAGCTATGCTTTTCAGGGCGGAAAACTCTCTGTTGTCCTGCGAGCTGAAGATATCCCGGAGCTCCTGCTAGAACCACCCATATCTGCGCTTGCCCAGGACACGGTCGATTTCCTCTCTCTTGATTTGTCTTATGAATGCCAAAATGAGGCAAGTCTGCGGCAGAAGCTGAGTAAATTGCAGACCATTGAGCCAAAAGTGAAAGTTTTCATCTTCAACCTAAAACTCCCAGACTGCCCCTCCACCATGAAGAACCCAGCCAGTCTGCTCTTCAGCCTTTTTGAAGCCATAAATAAAGACCAAGTGCTCACCATTGGGTTTGATATTAATGAGTTTCTGAGTTGTTCATCAAGTTCCAAGAAAAGCATGTCTTGTTCTCTGACTGGCAGCCTGGCCCTTCAGCCTGACCAGCAGCAGGACCACGAGACCACGGACTCCTCTCCTGCCTCTGCCTATCAGAGAATCTGGGAAGCATTTGCCAATCAGTCCAGGGCGGAAAGGGATGCCTTCCTGCAGGATACTTTCCCTGAAGGCTTCCTCTGGGGTGCCTCCACAGGAGCCTTTAACGTGGAAGGAGGCTGGGCCGAGGGTGGGAGAGGGGTGAGCATCTGGGATCCACGCAGGCCCCTGAACACCACTGAGGGCCAAGCGACGCTGGAGGTGGCCAGCGACAGTTACCACAAGGTAGCCTCTGACGTCGCCCTGCTTTGCGGCCTCCGGGCTCAGGTGTACAAGTTCTCCATCTCCTGGTCCCGGATCTTCCCCATGGGGCACGGGAGCAGCCCCAGCCTCCCAGGCGTTGCCTACTACAACAAGCTGATTGACAGGCTACAGGATGCGGGCATCGAGCCCATGGCCACGCTGTTCCACTGGGACCTGCCTCAGGCCCTGCAGGATCATGGTGGATGGCAGAATGAGAGCGTGGTGGATGCCTTCCTGGACTATGCGGCCTTCTGCTTCTCCACATTTGGGGACCGTGTGAAGCTGTGGGTGACCTTCCATGAGCCGTGGGTGATGAGCTACGCAGGCTATGGCACCGGCCAGCACCCTCCCGGCATCTCTGACCCAGGAGTGGCCTCTTTTAAGGTGGCTCACTTGGTCCTCAAGGCTCATGCCAGAACTTGGCACCACTACAACAGCCATCATCGCCCACAGCAGCAGGGGCACGTGGGCATTGTGCTGAACTCAGACTGGGCAGAACCCCTGTCTCCAGAGAGGCCTGAGGACCTGAGAGCCTCTGAGCGCTTCTTGCACTTCATGCTGGGCTGGTTTGCACACCCCGTCTTTGTGGATGGAGACTACCCAGCCACCCTGAGGACCCAGATCCAACAGATGAACAGACAGTGCTCCCATCCTGTGGCTCAACTCCCCGAGTTCACAGAGGCAGAGAAGCAGCTCCTGAAAGGCTCTGCTGATTTTCTGGGTCTGTCGCATTACACCTCCCGCCTCATCAGCAACGCCCCACAAAACACCTGCATCCCTAGCTATGATACCATTGGAGGCTTCTCCCAACACGTGAACCATGTGTGGCCCCAGACCTCATCCTCTTGGATTCGTGTGGTGCCCTGGGGGATAAGGAGGCTGTTGCAGTTTGTATCCCTGGAATACACAAGAGGAAAAGTTCCAATATACCTTGCCGGGAATGGCATGCCCATAGGGGAAAGTGAAAATCTCTTTGATGATTCCTTAAGAGTAGACTACTTCAATCAATATATCAATGAGGTGCTCAAGGCTATCAAGGAAGACTCTGTGGATGTTCGTTCCTACATTGCTCGTTCCCTCATTGATGGCTTCGAAGGCCCTTCTGGTTACAGCCAGCGGTTTGGCCTGCACCACGTCAACTTCAGCGACAGCAGCAAGTCAAGGACTCCCAGGAAATCTGCCTACTTTTTCACTAGCATCATAGAAAAGAACGGTTTCCTCACCAAGGGGGCAAAAAGACTGCTACCACCTAATACAGTAAACCTCCCCTCCAAAGTCAGAGCCTTCACTTTTCCATCTGAGGTGCCCTCCAAGGCTAAAGTCGTTTGGGAAAAGTTCTCCAGCCAACCCAAGTTCGAAAGAGATTTGTTCTACCACGGGACGTTTCGGGATGACTTTCTGTGGGGCGTGTCCTCTTCCGCTTATCAGATTGAAGGCGCGTGGGATGCCGATGGCAAAGGCCCCAGCATCTGGGATAACTTTACCCACACACCAGGGAGCAATGTGAAAGACAATGCCACTGGAGACATCGCCTGTGACAGCTATCACCAGCTGGATGCCGATCTGAATATGCTCCGAGCTTTGAAGGTGAAGGCCTACCGCTTCTCTATCTCCTGGTCTCGGATTTTCCCAACTGGGAGAAACAGCTCTATCAACAGTCATGGGGTTGATTATTACAACAGGCTGATCAATGGCTTGGTGGCAAGCAACATCTTTCCCATGGTGACATTGTTCCATTGGGACCTGCCCCAGGCCCTCCAGGATATCGGAGGCTGGGAGAATCCTGCCTTGATTGACTTGTTTGACAGCTACGCAGACTTTTGTTTCCAGACCTTTGGTGATAGAGTCAAGTTTTGGATGACTTTTAATGAGCCCATGTACCTGGCATGGCTAGGTTATGGCTCAGGGGAATTTCCCCCAGGGGTGAAGGACCCAGGCTGGGCACCATATAGGATAGCCCACGCCGTCATCAAAGCCCATGCCAGAGTCTATCACACGTACGATGAGAAATACAGGCAGGAGCAGAAGGGGGTCATCTCGCTGAGCCTCAGTACACACTGGGCAGAGCCCAAGTCACCAGGGGTCCCCAGAGATGTGGAAGCCGCTGACCGAATGCTGCAGTTCTCCCTGGGCTGGTTTGCTCACCCCATTTTTAGAAACGGAGACTATCCTGACACCATGAAGTGGAAAGTGGGGAACAGGAGTGAACTGCAGCACTTAGCCACCTCCCGCCTGCCAAGCTTCACTGAGGAAGAGAAGAGGTTCATCAGGGCGACGGCCGACGTCTTCTGCCTCAACACGTACTACTCCAGAATCGTGCAGCACAAAACACCCAGGCTAAACCCACCCTCCTACGAAGACGACCAGGAGATGGCTGAGGAGGAGGACCCTTCGTGGCCTTCCACGGCAATGAACAGAGCTGCGCCCTGGGGGACGCGAAGGCTGCTGAACTGGATCAAGGAAGAGTATGGTGACATCCCCATTTACATCACCGAAAACGGAGTGGGGCTGACCAATCCGAACACGGAGGATACTGATAGGATATTTTACCACAAAACCTACATCAATGAGGCTTTGAAAGCCTACAGGCTCGATGGTATAGACCTTCGAGGGTATGTCGCCTGGTCTCTGATGGACAACTTTGAGTGGCTAAATGGCTACACGGTCAAGTTTGGACTGTACCATGTTGATTTCAACAACACGAACAGGCCTCGCACAGCAAGAGCCTCCGCCAGGTACTACACAGAGGTCATTACCAACAACGGCATGCCACTGGCCAGGGAGGATGAGTTTCTGTACGGACGGTTTCCTGAGGGCTTCATCTGGAGTGCAGCTTCTGCTGCATATCAGATTGAAGGTGCGTGGAGAGCAGATGGCAAAGGACTCAGCATTTGGGACACGTTTTCTCACACACCACTGAGGGTTGAGAACGATGCCATTGGAGACGTGGCCTGTGACAGTTATCACAAGATTGCTGAGGATCTGGTCACCCTGCAGAACCTGGGCGTGTCCCACTACCGTTTTTCCATCTCCTGGTCTCGCATCCTCCCTGATGGAACCACCAGGTACATCAATGAAGCGGGCCTGAACTACTACGTGAGGCTCATCGATACACTGCTGGCCGCCAGCATCCAGCCCCAGGTGACCATTTACCACTGGGACCTACCACAGACGCTCCAAGATGTAGGAGGCTGGGAGAATGAGACCATCGTGCAGCGGTTTAAGGAGTATGCAGATGTGCTCTTCCAGAGGCTGGGAGACAAGGTGAAGTTTTGGATCACGCTGAATGAGCCCTTTGTCATTGCTTACCAGGGCTATGGCTACGGAACAGCAGCTCCAGGAGTCTCCAATAGGCCTGGCACTGCCCCCTACATTGTTGGCCACAATCTAATAAAGGCTCATGCTGAGGCCTGGCATCTGTACAACGATGTGTACCGCGCCAGTCAAGGTGGCGTGATTTCCATCACCATCAGCAGTGACTGGGCTGAACCCAGAGATCCCTCTAACCAGGAGGATGTGGAGGCAGCCAGGAGATATGTTCAGTTCATGGGAGGCTGGTTTGCACATCCTATTTTCAAGAATGGAGATTACAATGAGGTGATGAAGACGCGGATCCGTGACAGGAGCTTGGCTGCAGGCCTCAACAAGTCTCGGCTGCCAGAATTTACAGAGAGTGAGAAGAGGAGGATCAACGGCACCTATGACTTTTTTGGGTTCAATCACTACACCACTGTCCTCGCCTACAACCTCAACTATGCCACTGCCATCTCTTCTTTTGATGCAGACAGAGGAGTTGCTTCCATCGCAGATCGCTCGTGGCCAGACTCTGGCTCCTTCTGGCTGAAGATGACGCCTTTTGGCTTCAGGAGGATCCTGAACTGGTTAAAGGAGGAATACAATGACCCTCCAATTTATGTCACAGAGAATGGAGTGTCCCAGCGGGAAGAAACAGACCTCAATGACACTGCAAGGATCTACTACCTTCGGACTTACATCAATGAGGCCCTCAAAGCTGTGCAGGACAAGGTGGACCTTCGAGGATACACAGTTTGGAGTGCGATGGACAATTTTGAGTGGGCCACAGGCTTTTCAGAGAGATTTGGTCTGCATTTTGTGAACTACAGTGACCCTTCTCTGCCAAGGATCCCCAAAGCATCAGCGAAGTTCTACGCCTCTGTGGTCCGATGCAATGGCTTCCCTGACCCCGCTACAGGGCCTCACGCTTGTCTCCACCAGCCAGATGCTGGACCCACCATCAGCCCCGTGAGACAGGAGGAGGTGCAGTTCCTGGGGCTAATGCTCGGCACCACAGAAGCACAGACAGCTTTGTACGTTCTCTTTTCTCTTGTGCTTCTTGGAGTCTGTGGCTTGGCATTTCTGTCATACAAGTACTGCAAGCGCTCTAAGCAAGGGAAAACACAACGAAGCCAACAGGAATTGAGCCCGGTGTCTTCATTCTGATGAGTTACCACCTCAAGTTCTATGAAGCAGGCCTAGTTTCTTCATCTATGTTTACCGGCCACCAAACACCTTAGGGTCTTAGACTCTGCTGATACTGGACTTCTCCATAAAGTCCTGCTGCACCGTTAGAGATGACTTTAATCTTGAATGATTTCGACTTGCTGAGTAAAATGGAAATATCTCCATCTTGCTCCAGTATCAGAGTTCATTTGGGCATTTGAGAAGCAAGTAGCTCTTGCGGAAACGTGTAGATACTGGTCTAGTGGGTCTGTGAACCACTTAATTGAACTTAACAGGGCTGTTTTAAGTTTCAGAGTTGTTAAGGGTTGTTAAGGGAGCAAAAACCGTAAAAATCCTTCCTATAAGAAGAAATCAACTCCATTGCATAGACTGCAATATCATCTCCTGCCCTTCTGCAAGCTCTCCCTAGCTTCACATCTTGTGTTTTCCAGAAAATAAAAACAGCAGACTGTC\n"
     ]
    }
   ],
   "source": [
    "#Entonces, para trabajar con la sequencia de la lactasa directamente partiríamos del objeto creado por SeqIO\n",
    "#y usaríamos sobre él el método .seq: lo transforma en objeto seq\n",
    "lactase_sequence = lactase[0].seq\n",
    "\n",
    "#ahora, lactase_sequence es un objeto especial de clase Seq\n",
    "# https://biopython.org/wiki/Seq\n",
    "print(lactase_sequence)"
   ]
  },
  {
   "cell_type": "code",
   "execution_count": 15,
   "metadata": {},
   "outputs": [
    {
     "name": "stdout",
     "output_type": "stream",
     "text": [
      "GACAGTCTGCTGTTTTTATTTTCTGGAAAACACAAGATGTGAAGCTAGGGAGAGCTTGCAGAAGGGCAGGAGATGATATTGCAGTCTATGCAATGGAGTTGATTTCTTCTTATAGGAAGGATTTTTACGGTTTTTGCTCCCTTAACAACCCTTAACAACTCTGAAACTTAAAACAGCCCTGTTAAGTTCAATTAAGTGGTTCACAGACCCACTAGACCAGTATCTACACGTTTCCGCAAGAGCTACTTGCTTCTCAAATGCCCAAATGAACTCTGATACTGGAGCAAGATGGAGATATTTCCATTTTACTCAGCAAGTCGAAATCATTCAAGATTAAAGTCATCTCTAACGGTGCAGCAGGACTTTATGGAGAAGTCCAGTATCAGCAGAGTCTAAGACCCTAAGGTGTTTGGTGGCCGGTAAACATAGATGAAGAAACTAGGCCTGCTTCATAGAACTTGAGGTGGTAACTCATCAGAATGAAGACACCGGGCTCAATTCCTGTTGGCTTCGTTGTGTTTTCCCTTGCTTAGAGCGCTTGCAGTACTTGTATGACAGAAATGCCAAGCCACAGACTCCAAGAAGCACAAGAGAAAAGAGAACGTACAAAGCTGTCTGTGCTTCTGTGGTGCCGAGCATTAGCCCCAGGAACTGCACCTCCTCCTGTCTCACGGGGCTGATGGTGGGTCCAGCATCTGGCTGGTGGAGACAAGCGTGAGGCCCTGTAGCGGGGTCAGGGAAGCCATTGCATCGGACCACAGAGGCGTAGAACTTCGCTGATGCTTTGGGGATCCTTGGCAGAGAAGGGTCACTGTAGTTCACAAAATGCAGACCAAATCTCTCTGAAAAGCCTGTGGCCCACTCAAAATTGTCCATCGCACTCCAAACTGTGTATCCTCGAAGGTCCACCTTGTCCTGCACAGCTTTGAGGGCCTCATTGATGTAAGTCCGAAGGTAGTAGATCCTTGCAGTGTCATTGAGGTCTGTTTCTTCCCGCTGGGACACTCCATTCTCTGTGACATAAATTGGAGGGTCATTGTATTCCTCCTTTAACCAGTTCAGGATCCTCCTGAAGCCAAAAGGCGTCATCTTCAGCCAGAAGGAGCCAGAGTCTGGCCACGAGCGATCTGCGATGGAAGCAACTCCTCTGTCTGCATCAAAAGAAGAGATGGCAGTGGCATAGTTGAGGTTGTAGGCGAGGACAGTGGTGTAGTGATTGAACCCAAAAAAGTCATAGGTGCCGTTGATCCTCCTCTTCTCACTCTCTGTAAATTCTGGCAGCCGAGACTTGTTGAGGCCTGCAGCCAAGCTCCTGTCACGGATCCGCGTCTTCATCACCTCATTGTAATCTCCATTCTTGAAAATAGGATGTGCAAACCAGCCTCCCATGAACTGAACATATCTCCTGGCTGCCTCCACATCCTCCTGGTTAGAGGGATCTCTGGGTTCAGCCCAGTCACTGCTGATGGTGATGGAAATCACGCCACCTTGACTGGCGCGGTACACATCGTTGTACAGATGCCAGGCCTCAGCATGAGCCTTTATTAGATTGTGGCCAACAATGTAGGGGGCAGTGCCAGGCCTATTGGAGACTCCTGGAGCTGCTGTTCCGTAGCCATAGCCCTGGTAAGCAATGACAAAGGGCTCATTCAGCGTGATCCAAAACTTCACCTTGTCTCCCAGCCTCTGGAAGAGCACATCTGCATACTCCTTAAACCGCTGCACGATGGTCTCATTCTCCCAGCCTCCTACATCTTGGAGCGTCTGTGGTAGGTCCCAGTGGTAAATGGTCACCTGGGGCTGGATGCTGGCGGCCAGCAGTGTATCGATGAGCCTCACGTAGTAGTTCAGGCCCGCTTCATTGATGTACCTGGTGGTTCCATCAGGGAGGATGCGAGACCAGGAGATGGAAAAACGGTAGTGGGACACGCCCAGGTTCTGCAGGGTGACCAGATCCTCAGCAATCTTGTGATAACTGTCACAGGCCACGTCTCCAATGGCATCGTTCTCAACCCTCAGTGGTGTGTGAGAAAACGTGTCCCAAATGCTGAGTCCTTTGCCATCTGCTCTCCACGCACCTTCAATCTGATATGCAGCAGAAGCTGCACTCCAGATGAAGCCCTCAGGAAACCGTCCGTACAGAAACTCATCCTCCCTGGCCAGTGGCATGCCGTTGTTGGTAATGACCTCTGTGTAGTACCTGGCGGAGGCTCTTGCTGTGCGAGGCCTGTTCGTGTTGTTGAAATCAACATGGTACAGTCCAAACTTGACCGTGTAGCCATTTAGCCACTCAAAGTTGTCCATCAGAGACCAGGCGACATACCCTCGAAGGTCTATACCATCGAGCCTGTAGGCTTTCAAAGCCTCATTGATGTAGGTTTTGTGGTAAAATATCCTATCAGTATCCTCCGTGTTCGGATTGGTCAGCCCCACTCCGTTTTCGGTGATGTAAATGGGGATGTCACCATACTCTTCCTTGATCCAGTTCAGCAGCCTTCGCGTCCCCCAGGGCGCAGCTCTGTTCATTGCCGTGGAAGGCCACGAAGGGTCCTCCTCCTCAGCCATCTCCTGGTCGTCTTCGTAGGAGGGTGGGTTTAGCCTGGGTGTTTTGTGCTGCACGATTCTGGAGTAGTACGTGTTGAGGCAGAAGACGTCGGCCGTCGCCCTGATGAACCTCTTCTCTTCCTCAGTGAAGCTTGGCAGGCGGGAGGTGGCTAAGTGCTGCAGTTCACTCCTGTTCCCCACTTTCCACTTCATGGTGTCAGGATAGTCTCCGTTTCTAAAAATGGGGTGAGCAAACCAGCCCAGGGAGAACTGCAGCATTCGGTCAGCGGCTTCCACATCTCTGGGGACCCCTGGTGACTTGGGCTCTGCCCAGTGTGTACTGAGGCTCAGCGAGATGACCCCCTTCTGCTCCTGCCTGTATTTCTCATCGTACGTGTGATAGACTCTGGCATGGGCTTTGATGACGGCGTGGGCTATCCTATATGGTGCCCAGCCTGGGTCCTTCACCCCTGGGGGAAATTCCCCTGAGCCATAACCTAGCCATGCCAGGTACATGGGCTCATTAAAAGTCATCCAAAACTTGACTCTATCACCAAAGGTCTGGAAACAAAAGTCTGCGTAGCTGTCAAACAAGTCAATCAAGGCAGGATTCTCCCAGCCTCCGATATCCTGGAGGGCCTGGGGCAGGTCCCAATGGAACAATGTCACCATGGGAAAGATGTTGCTTGCCACCAAGCCATTGATCAGCCTGTTGTAATAATCAACCCCATGACTGTTGATAGAGCTGTTTCTCCCAGTTGGGAAAATCCGAGACCAGGAGATAGAGAAGCGGTAGGCCTTCACCTTCAAAGCTCGGAGCATATTCAGATCGGCATCCAGCTGGTGATAGCTGTCACAGGCGATGTCTCCAGTGGCATTGTCTTTCACATTGCTCCCTGGTGTGTGGGTAAAGTTATCCCAGATGCTGGGGCCTTTGCCATCGGCATCCCACGCGCCTTCAATCTGATAAGCGGAAGAGGACACGCCCCACAGAAAGTCATCCCGAAACGTCCCGTGGTAGAACAAATCTCTTTCGAACTTGGGTTGGCTGGAGAACTTTTCCCAAACGACTTTAGCCTTGGAGGGCACCTCAGATGGAAAAGTGAAGGCTCTGACTTTGGAGGGGAGGTTTACTGTATTAGGTGGTAGCAGTCTTTTTGCCCCCTTGGTGAGGAAACCGTTCTTTTCTATGATGCTAGTGAAAAAGTAGGCAGATTTCCTGGGAGTCCTTGACTTGCTGCTGTCGCTGAAGTTGACGTGGTGCAGGCCAAACCGCTGGCTGTAACCAGAAGGGCCTTCGAAGCCATCAATGAGGGAACGAGCAATGTAGGAACGAACATCCACAGAGTCTTCCTTGATAGCCTTGAGCACCTCATTGATATATTGATTGAAGTAGTCTACTCTTAAGGAATCATCAAAGAGATTTTCACTTTCCCCTATGGGCATGCCATTCCCGGCAAGGTATATTGGAACTTTTCCTCTTGTGTATTCCAGGGATACAAACTGCAACAGCCTCCTTATCCCCCAGGGCACCACACGAATCCAAGAGGATGAGGTCTGGGGCCACACATGGTTCACGTGTTGGGAGAAGCCTCCAATGGTATCATAGCTAGGGATGCAGGTGTTTTGTGGGGCGTTGCTGATGAGGCGGGAGGTGTAATGCGACAGACCCAGAAAATCAGCAGAGCCTTTCAGGAGCTGCTTCTCTGCCTCTGTGAACTCGGGGAGTTGAGCCACAGGATGGGAGCACTGTCTGTTCATCTGTTGGATCTGGGTCCTCAGGGTGGCTGGGTAGTCTCCATCCACAAAGACGGGGTGTGCAAACCAGCCCAGCATGAAGTGCAAGAAGCGCTCAGAGGCTCTCAGGTCCTCAGGCCTCTCTGGAGACAGGGGTTCTGCCCAGTCTGAGTTCAGCACAATGCCCACGTGCCCCTGCTGCTGTGGGCGATGATGGCTGTTGTAGTGGTGCCAAGTTCTGGCATGAGCCTTGAGGACCAAGTGAGCCACCTTAAAAGAGGCCACTCCTGGGTCAGAGATGCCGGGAGGGTGCTGGCCGGTGCCATAGCCTGCGTAGCTCATCACCCACGGCTCATGGAAGGTCACCCACAGCTTCACACGGTCCCCAAATGTGGAGAAGCAGAAGGCCGCATAGTCCAGGAAGGCATCCACCACGCTCTCATTCTGCCATCCACCATGATCCTGCAGGGCCTGAGGCAGGTCCCAGTGGAACAGCGTGGCCATGGGCTCGATGCCCGCATCCTGTAGCCTGTCAATCAGCTTGTTGTAGTAGGCAACGCCTGGGAGGCTGGGGCTGCTCCCGTGCCCCATGGGGAAGATCCGGGACCAGGAGATGGAGAACTTGTACACCTGAGCCCGGAGGCCGCAAAGCAGGGCGACGTCAGAGGCTACCTTGTGGTAACTGTCGCTGGCCACCTCCAGCGTCGCTTGGCCCTCAGTGGTGTTCAGGGGCCTGCGTGGATCCCAGATGCTCACCCCTCTCCCACCCTCGGCCCAGCCTCCTTCCACGTTAAAGGCTCCTGTGGAGGCACCCCAGAGGAAGCCTTCAGGGAAAGTATCCTGCAGGAAGGCATCCCTTTCCGCCCTGGACTGATTGGCAAATGCTTCCCAGATTCTCTGATAGGCAGAGGCAGGAGAGGAGTCCGTGGTCTCGTGGTCCTGCTGCTGGTCAGGCTGAAGGGCCAGGCTGCCAGTCAGAGAACAAGACATGCTTTTCTTGGAACTTGATGAACAACTCAGAAACTCATTAATATCAAACCCAATGGTGAGCACTTGGTCTTTATTTATGGCTTCAAAAAGGCTGAAGAGCAGACTGGCTGGGTTCTTCATGGTGGAGGGGCAGTCTGGGAGTTTTAGGTTGAAGATGAAAACTTTCACTTTTGGCTCAATGGTCTGCAATTTACTCAGCTTCTGCCGCAGACTTGCCTCATTTTGGCATTCATAAGACAAATCAAGAGAGAGGAAATCGACCGTGTCCTGGGCAAGCGCAGATATGGGTGGTTCTAGCAGGAGCTCCGGGATATCTTCAGCTCGCAGGACAACAGAGAGTTTTCCGCCCTGAAAAGCATAGCTTTCGTGGTAAATCTCATAGGCTTTTCTGTGGGCATCACTGAGGGTCTGGAGTTGTGACGCTCTTGATTCCTGGTGGGGAAGCTCCTTGATCACTTCCTCCAAGTCACTGAAGGTGAACCAGATCCCAACTAGGTCCCCGAAGGAGTGGAAGGCGAATGTGGCATAGTCGGCGAAGAGGTCAGCAAAGGCTTCGGTTCTCCGGAGGGTGCTGGCAGGGAGGGTCTGGTGGTGCAGGATGACCATGGGCTGAAGCCGTGCAGTCTTGAGGGCCTTGAGGAGTCGCCGGTAGCACTGCACTGTTTTCTCGTCTGGATTCTGGGTGCTTCCTGCTGGGAGGAGCTGTGCCCATGACAGAAATACCTTATAATGGGTGATCTGACTGGCATGGAGACTGCTGAAGTATTCTGGCAGGAAAGTGGGCAGTGGCTGGTGACAAACATACATGTCTTTGTCCCCTGCTACAAAGTTAGAACTCTGGTCTCCCAGGAGACCACTCAGGTTGTGCAGCAAGTCATTGGTTAGAGGACCAGCGGTGGAAATGAAATTTCTATCAGACTCCCAGTCTGACCCCCAGCATGAAAAACTTAGCAGGGCAATAAAGACTACATGCCAAGACAGCTCCATTTTCTAGGAACTGTT\n"
     ]
    }
   ],
   "source": [
    "# La clase Seq tiene diversos metodos, por ejemplo:\n",
    "# Para obtener la hebra inversa complementaria se puede usar el metodo reverse_complement()\n",
    "print(lactase_sequence.reverse_complement())"
   ]
  },
  {
   "cell_type": "code",
   "execution_count": 16,
   "metadata": {},
   "outputs": [
    {
     "name": "stdout",
     "output_type": "stream",
     "text": [
      "6273\n"
     ]
    }
   ],
   "source": [
    "#Se parecen a las string, se calcula su longitud con len y se accede a subsecuencias con []\n",
    "# Longitud de la secuencia\n",
    "print(len(lactase_sequence))"
   ]
  },
  {
   "cell_type": "code",
   "execution_count": 17,
   "metadata": {},
   "outputs": [
    {
     "data": {
      "text/plain": [
       "Seq('AAC')"
      ]
     },
     "execution_count": 17,
     "metadata": {},
     "output_type": "execute_result"
    }
   ],
   "source": [
    "# Subsecuencia\n",
    "lactase_sequence[0:3]"
   ]
  },
  {
   "cell_type": "code",
   "execution_count": 19,
   "metadata": {},
   "outputs": [],
   "source": [
    "#Contenido en GC\n",
    "from Bio.SeqUtils import GC\n",
    "GC(lactase_sequence)"
   ]
  },
  {
   "cell_type": "markdown",
   "metadata": {},
   "source": [
    "## Ejercicio 1:\n",
    "\n",
    "* Crea una función llamada *get_multinomial_model* que calcule el modelo multinomial\n"
   ]
  },
  {
   "cell_type": "code",
   "execution_count": null,
   "metadata": {},
   "outputs": [],
   "source": [
    "\n",
    "#get_multinomial_model(lactase_sequence)"
   ]
  },
  {
   "cell_type": "markdown",
   "metadata": {},
   "source": [
    "* Descargar de la NCBI mediante Biopython el genoma del lamda fago (NC_001416).\n",
    "* Salva el genoma en un fichero FASTA"
   ]
  },
  {
   "cell_type": "code",
   "execution_count": null,
   "metadata": {},
   "outputs": [],
   "source": []
  },
  {
   "cell_type": "code",
   "execution_count": null,
   "metadata": {},
   "outputs": [],
   "source": []
  },
  {
   "cell_type": "markdown",
   "metadata": {},
   "source": [
    "* ¿Cual es la longitud de la secuencia?\n",
    "* ¿Cual es su modelo multinomial?\n",
    "* ¿Cual es su contenido en GC?"
   ]
  },
  {
   "cell_type": "code",
   "execution_count": null,
   "metadata": {},
   "outputs": [],
   "source": []
  },
  {
   "cell_type": "code",
   "execution_count": null,
   "metadata": {},
   "outputs": [],
   "source": []
  },
  {
   "cell_type": "code",
   "execution_count": null,
   "metadata": {},
   "outputs": [],
   "source": []
  },
  {
   "cell_type": "code",
   "execution_count": null,
   "metadata": {},
   "outputs": [],
   "source": []
  },
  {
   "cell_type": "markdown",
   "metadata": {},
   "source": [
    "## Ejercicio 2:\n",
    "\n",
    "* Implementa una función para calcular el contenido local en GC de una secuencia (revisar apuntes de IAB)\n",
    "* Aplica la función al genoma del lambda fago con una longitud de ventana de 10000 y un desplazamiento de 1000"
   ]
  },
  {
   "cell_type": "code",
   "execution_count": 26,
   "metadata": {},
   "outputs": [],
   "source": [
    "# este es el pseudocodigo para R, tenemos que adaptarlo\n",
    "#Entrada: Un vector que representa una secuencia de DNA (dna.sequence), la longitud de la\n",
    "# ventana(window.length) y el desplazamiento (offset)\n",
    "#Paso 1: Inicialización de variables antes del bucle:\n",
    "# lowest ← 1\n",
    "# highest ← window.length\n",
    "# local.GC ← numeric(0)\n",
    "# positions ← numeric(0)\n",
    "# i ← 1\n",
    "#Paso 2: Mientras highest <= length(dna.sequence)\n",
    "# Guardar valor local: local.GC[i] ← GC(dna.sequence[lowest:highest])\n",
    "# Guardar posición actual: positions[i] ← lowest\n",
    "# Actualizar ventana: lowest ← lowest + offset\n",
    "# highest ← highest + offset\n",
    "# i ← i + 1\n",
    "#Paso 3: Devolver result una lista con local.GC y positions.\n",
    "\n",
    "#Devolviendo una lista\n",
    "\n",
    "#Devolviendo un diccionario\n"
   ]
  },
  {
   "cell_type": "code",
   "execution_count": 27,
   "metadata": {},
   "outputs": [
    {
     "data": {
      "text/plain": [
       "[(56.46, 0),\n",
       " (57.1, 1000),\n",
       " (57.49, 2000),\n",
       " (57.88, 3000),\n",
       " (57.78, 4000),\n",
       " (57.59, 5000),\n",
       " (57.27, 6000),\n",
       " (57.61, 7000),\n",
       " (57.72, 8000),\n",
       " (57.53, 9000),\n",
       " (57.31, 10000),\n",
       " (57.4, 11000),\n",
       " (56.73, 12000),\n",
       " (55.07, 13000),\n",
       " (52.41, 14000),\n",
       " (50.62, 15000),\n",
       " (48.64, 16000),\n",
       " (46.31, 17000),\n",
       " (44.39, 18000),\n",
       " (43.51, 19000),\n",
       " (42.35, 20000),\n",
       " (41.2, 21000),\n",
       " (41.07, 22000),\n",
       " (41.95, 23000),\n",
       " (43.16, 24000),\n",
       " (43.13, 25000),\n",
       " (44.05, 26000),\n",
       " (44.64, 27000),\n",
       " (45.04, 28000),\n",
       " (45.08, 29000),\n",
       " (45.96, 30000),\n",
       " (46.22, 31000),\n",
       " (45.95, 32000),\n",
       " (45.79, 33000),\n",
       " (46.12, 34000),\n",
       " (47.07, 35000),\n",
       " (47.44, 36000),\n",
       " (47.94, 37000),\n",
       " (47.32, 38000)]"
      ]
     },
     "execution_count": 27,
     "metadata": {},
     "output_type": "execute_result"
    }
   ],
   "source": [
    "get_local_GC(lambda_phage_seq,10000,1000)"
   ]
  },
  {
   "cell_type": "code",
   "execution_count": 28,
   "metadata": {},
   "outputs": [
    {
     "data": {
      "text/plain": [
       "{0: 56.46,\n",
       " 1000: 57.1,\n",
       " 2000: 57.49,\n",
       " 3000: 57.88,\n",
       " 4000: 57.78,\n",
       " 5000: 57.59,\n",
       " 6000: 57.27,\n",
       " 7000: 57.61,\n",
       " 8000: 57.72,\n",
       " 9000: 57.53,\n",
       " 10000: 57.31,\n",
       " 11000: 57.4,\n",
       " 12000: 56.73,\n",
       " 13000: 55.07,\n",
       " 14000: 52.41,\n",
       " 15000: 50.62,\n",
       " 16000: 48.64,\n",
       " 17000: 46.31,\n",
       " 18000: 44.39,\n",
       " 19000: 43.51,\n",
       " 20000: 42.35,\n",
       " 21000: 41.2,\n",
       " 22000: 41.07,\n",
       " 23000: 41.95,\n",
       " 24000: 43.16,\n",
       " 25000: 43.13,\n",
       " 26000: 44.05,\n",
       " 27000: 44.64,\n",
       " 28000: 45.04,\n",
       " 29000: 45.08,\n",
       " 30000: 45.96,\n",
       " 31000: 46.22,\n",
       " 32000: 45.95,\n",
       " 33000: 45.79,\n",
       " 34000: 46.12,\n",
       " 35000: 47.07,\n",
       " 36000: 47.44,\n",
       " 37000: 47.94,\n",
       " 38000: 47.32}"
      ]
     },
     "execution_count": 28,
     "metadata": {},
     "output_type": "execute_result"
    }
   ],
   "source": [
    "get_local_GC_bis(lambda_phage_seq,10000,1000)"
   ]
  },
  {
   "cell_type": "markdown",
   "metadata": {},
   "source": [
    "## Ejercicio 5:\n",
    "\n",
    "* Implementa una función para calcular el modelo markoviano de una secuencia (revisar apuntes de IAB)\n",
    "* Aplica la función al genoma del lambda fago"
   ]
  },
  {
   "cell_type": "code",
   "execution_count": null,
   "metadata": {},
   "outputs": [],
   "source": []
  },
  {
   "cell_type": "code",
   "execution_count": null,
   "metadata": {},
   "outputs": [],
   "source": []
  },
  {
   "cell_type": "code",
   "execution_count": 65,
   "metadata": {},
   "outputs": [
    {
     "data": {
      "text/plain": [
       "({'A': 0.2542987918023999,\n",
       "  'C': 0.23425838109768668,\n",
       "  'G': 0.2643189971547565,\n",
       "  'T': 0.24712382994515691},\n",
       " {'GG': 1.1488439306358382,\n",
       "  'GC': 1.3059971098265897,\n",
       "  'CG': 1.2275236593059937,\n",
       "  'GA': 1.176300578034682,\n",
       "  'AC': 0.77105184297273,\n",
       "  'CC': 0.9846214511041009,\n",
       "  'CT': 1.0,\n",
       "  'TC': 0.8002989536621824,\n",
       "  'GT': 1.0,\n",
       "  'TT': 1.0,\n",
       "  'TA': 0.648729446935725,\n",
       "  'AT': 1.0,\n",
       "  'TG': 1.1342301943198805,\n",
       "  'AA': 1.1063829787234043,\n",
       "  'AG': 0.818699430626311,\n",
       "  'CA': 1.2681388012618298})"
      ]
     },
     "execution_count": 65,
     "metadata": {},
     "output_type": "execute_result"
    }
   ],
   "source": [
    "get_markovian_model(lambda_phage_seq)"
   ]
  }
 ],
 "metadata": {
  "kernelspec": {
   "display_name": "Python 3 (ipykernel)",
   "language": "python",
   "name": "python3"
  },
  "language_info": {
   "codemirror_mode": {
    "name": "ipython",
    "version": 3
   },
   "file_extension": ".py",
   "mimetype": "text/x-python",
   "name": "python",
   "nbconvert_exporter": "python",
   "pygments_lexer": "ipython3",
   "version": "3.11.5"
  }
 },
 "nbformat": 4,
 "nbformat_minor": 4
}
