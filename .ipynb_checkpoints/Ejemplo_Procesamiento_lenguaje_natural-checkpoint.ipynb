{
 "cells": [
  {
   "cell_type": "markdown",
   "id": "af0f71ac",
   "metadata": {},
   "source": [
    "## Introducción al Trabajo de Detección de SPAM con Inteligencia Artificial\n",
    "\n",
    "Desde hace décadas, la presencia de la inteligencia artificial (IA) en nuestras vidas ha sido una constante evolución, marcando hitos significativos en la forma en que interactuamos con la tecnología. Sin embargo, es en los últimos años que hemos presenciado un impresionante avance, especialmente en el campo del **procesamiento del lenguaje natural (PLN)**, que ha llevado a las IA a alcanzar niveles de sofisticación notables. La detección de correo no deseado o SPAM es un ejemplo destacado de cómo la IA ha transformado la manera en que abordamos problemas cotidianos. En este contexto, nos encontramos con algoritmos que no solo reconocen patrones y características en el texto, sino que también comprenden el contexto y la semántica de las comunicaciones escritas.\n",
    "\n",
    "Un referente fundamental en este viaje hacia la excelencia en el PLN es el paquete **scikit-learn** (sklearn) en Python. Este conjunto de herramientas proporciona implementaciones eficientes y accesibles de una variedad de algoritmos de aprendizaje automático, incluyendo aquellos utilizados para la clasificación de texto en tareas como la detección de SPAM. Además, la biblioteca **nltk (Natural Language Toolkit)** juega un papel crucial en este proceso. Brindando herramientas y recursos para el procesamiento del lenguaje natural, nltk facilita la manipulación y comprensión de textos, permitiendo a los desarrolladores aprovechar técnicas avanzadas de PLN.\n",
    "\n",
    "En este script, exploraremos la aplicación de estas tecnologías, destacando cómo la convergencia de la inteligencia artificial, sklearn y nltk, ha revolucionado nuestra capacidad para identificar y filtrar eficientemente contenido no deseado en nuestros correos electrónicos. Al sumergirnos en la teoría y práctica detrás de estos avances, examinaremos cómo estos modelos, alimentados con grandes cantidades de datos etiquetados, pueden discernir entre mensajes legítimos y aquellos destinados a inundar nuestras bandejas de entrada con SPAM. Este viaje nos permitirá apreciar la extraordinaria capacidad de las IA modernas para procesar el texto natural, casi emulando la comprensión humana del lenguaje."
   ]
  },
  {
   "cell_type": "code",
   "execution_count": 1,
   "id": "23904571",
   "metadata": {},
   "outputs": [],
   "source": [
    "#Se cargan todas las librerías que vamos a usar\n",
    "\n",
    "import pandas as pd\n",
    "import numpy as np\n",
    "from sklearn.model_selection import train_test_split\n",
    "from sklearn.feature_extraction.text import CountVectorizer\n",
    "from sklearn.naive_bayes import MultinomialNB\n",
    "from sklearn.metrics import accuracy_score, classification_report, confusion_matrix\n",
    "from sklearn.pipeline import make_pipeline\n",
    "\n",
    "import nltk\n",
    "from nltk.corpus import stopwords\n",
    "from nltk.stem import PorterStemmer\n",
    "from nltk.tokenize import word_tokenize\n",
    "\n"
   ]
  },
  {
   "cell_type": "code",
   "execution_count": 3,
   "id": "c44d1d03",
   "metadata": {},
   "outputs": [
    {
     "data": {
      "text/html": [
       "<div>\n",
       "<style scoped>\n",
       "    .dataframe tbody tr th:only-of-type {\n",
       "        vertical-align: middle;\n",
       "    }\n",
       "\n",
       "    .dataframe tbody tr th {\n",
       "        vertical-align: top;\n",
       "    }\n",
       "\n",
       "    .dataframe thead th {\n",
       "        text-align: right;\n",
       "    }\n",
       "</style>\n",
       "<table border=\"1\" class=\"dataframe\">\n",
       "  <thead>\n",
       "    <tr style=\"text-align: right;\">\n",
       "      <th></th>\n",
       "      <th>label</th>\n",
       "      <th>text</th>\n",
       "    </tr>\n",
       "  </thead>\n",
       "  <tbody>\n",
       "    <tr>\n",
       "      <th>1</th>\n",
       "      <td>1</td>\n",
       "      <td>wulvob get your medircations online qnb ikud v...</td>\n",
       "    </tr>\n",
       "    <tr>\n",
       "      <th>2</th>\n",
       "      <td>0</td>\n",
       "      <td>computer connection from cnn com wednesday es...</td>\n",
       "    </tr>\n",
       "    <tr>\n",
       "      <th>3</th>\n",
       "      <td>1</td>\n",
       "      <td>university degree obtain a prosperous future m...</td>\n",
       "    </tr>\n",
       "    <tr>\n",
       "      <th>4</th>\n",
       "      <td>0</td>\n",
       "      <td>thanks for all your answers guys i know i shou...</td>\n",
       "    </tr>\n",
       "  </tbody>\n",
       "</table>\n",
       "</div>"
      ],
      "text/plain": [
       "   label                                               text\n",
       "1      1  wulvob get your medircations online qnb ikud v...\n",
       "2      0   computer connection from cnn com wednesday es...\n",
       "3      1  university degree obtain a prosperous future m...\n",
       "4      0  thanks for all your answers guys i know i shou..."
      ]
     },
     "execution_count": 3,
     "metadata": {},
     "output_type": "execute_result"
    }
   ],
   "source": [
    "#Lectura de tablas de datos con panda\n",
    "data = pd.read_csv('combined_data.csv')\n",
    "data[1:5]"
   ]
  },
  {
   "cell_type": "code",
   "execution_count": 4,
   "id": "afd91fcf",
   "metadata": {},
   "outputs": [
    {
     "name": "stdout",
     "output_type": "stream",
     "text": [
      "La precisión del modelo desarrollado es 97.50149790293588\n"
     ]
    }
   ],
   "source": [
    "#Extrae el atributo, en este caso el texto de nuestros correos\n",
    "atributos=data[\"text\"]\n",
    "#Vectoriza el texto del atributo con el codificador CountVectorizer, distinto al que usamos con la tarea\n",
    "#de cars\n",
    "vectorizer = CountVectorizer()\n",
    "#Convierte nuestros atributos en valores numéricos\n",
    "atributos = vectorizer.fit_transform(atributos)\n",
    "\n",
    "#Extrae el objetivo (ya es numérico)\n",
    "objetivo=data[\"label\"]\n",
    "\n",
    "#Separa conjunto de entrenamiento y de prueba\n",
    "(atributos_entrenamiento, atributos_prueba,\n",
    " objetivo_entrenamiento, objetivo_prueba) = train_test_split(\n",
    "        atributos, objetivo,\n",
    "        random_state=12345,\n",
    "        test_size=.2,\n",
    "        stratify=objetivo)\n",
    "\n",
    "\n",
    "#Entrena el modelo de Naive Bayes usando la instancia MultinomialNB que es recomendada \n",
    "#para este tipo de tareas\n",
    "spam_detector = MultinomialNB(alpha=1.0)  # alpha es el parámetro de suavizado\n",
    "spam_detector.fit(atributos_entrenamiento, objetivo_entrenamiento)\n",
    "\n",
    "#Realiza las predicciones con el conjunto de prueba\n",
    "predicciones = spam_detector.predict(atributos_prueba)\n",
    "#Calcular la precisión del modelo\n",
    "precision = spam_detector.score(atributos_prueba, objetivo_prueba)\n",
    "print(\"La precisión del modelo desarrollado es\", precision*100)\n",
    "\n"
   ]
  },
  {
   "cell_type": "markdown",
   "id": "0cdcd030",
   "metadata": {},
   "source": [
    "Una vez que nuestro modelo ha sido entrenado con datos significativos y ha internalizado patrones distintivos asociados con correos SPAM y no SPAM, se convierte en una herramienta poderosa para la detección automatizada. Al aplicar este modelo a nuevos conjuntos de correos electrónicos, el proceso se vuelve tan simple como enviar el texto del mensaje a través del modelo previamente entrenado. Este acto de inferencia permite que el modelo evalúe rápidamente las características del texto en cuestión, clasificando el correo electrónico como potencialmente dañino o legítimo. "
   ]
  },
  {
   "cell_type": "code",
   "execution_count": 1,
   "id": "c2196537",
   "metadata": {},
   "outputs": [
    {
     "ename": "NameError",
     "evalue": "name 'vectorizer' is not defined",
     "output_type": "error",
     "traceback": [
      "\u001b[0;31m---------------------------------------------------------------------------\u001b[0m",
      "\u001b[0;31mNameError\u001b[0m                                 Traceback (most recent call last)",
      "\u001b[0;32m<ipython-input-1-cc7f01abe439>\u001b[0m in \u001b[0;36m<module>\u001b[0;34m\u001b[0m\n\u001b[1;32m      2\u001b[0m \u001b[0memail\u001b[0m\u001b[0;34m=\u001b[0m\u001b[0;34m[\u001b[0m\u001b[0;34m\"¡Felicidades! Has ganado un premio increíble. Haz clic aquí para reclamar tu premio.\"\u001b[0m\u001b[0;34m]\u001b[0m\u001b[0;34m\u001b[0m\u001b[0;34m\u001b[0m\u001b[0m\n\u001b[1;32m      3\u001b[0m \u001b[0;31m#Conviertelo en valores numérico\u001b[0m\u001b[0;34m\u001b[0m\u001b[0;34m\u001b[0m\u001b[0;34m\u001b[0m\u001b[0m\n\u001b[0;32m----> 4\u001b[0;31m \u001b[0memail_bien\u001b[0m \u001b[0;34m=\u001b[0m \u001b[0mvectorizer\u001b[0m\u001b[0;34m.\u001b[0m\u001b[0mtransform\u001b[0m\u001b[0;34m(\u001b[0m\u001b[0memail\u001b[0m\u001b[0;34m)\u001b[0m\u001b[0;34m\u001b[0m\u001b[0;34m\u001b[0m\u001b[0m\n\u001b[0m\u001b[1;32m      5\u001b[0m \u001b[0;31m#ahora no se usa el el fit, ya que el codificador ya se creó al principio\u001b[0m\u001b[0;34m\u001b[0m\u001b[0;34m\u001b[0m\u001b[0;34m\u001b[0m\u001b[0m\n\u001b[1;32m      6\u001b[0m \u001b[0;31m#solo hay que volver a usarlo pero sin crear uno nuevo.\u001b[0m\u001b[0;34m\u001b[0m\u001b[0;34m\u001b[0m\u001b[0;34m\u001b[0m\u001b[0m\n",
      "\u001b[0;31mNameError\u001b[0m: name 'vectorizer' is not defined"
     ]
    }
   ],
   "source": [
    "#Hago la prueba con un email\n",
    "email=[\"¡Felicidades! Has ganado un premio increíble. Haz clic aquí para reclamar tu premio.\"]\n",
    "#Conviertelo en valores numérico\n",
    "email_bien = vectorizer.transform(email) \n",
    "#ahora no se usa el el fit, ya que el codificador ya se creó al principio\n",
    "#solo hay que volver a usarlo pero sin crear uno nuevo.\n",
    "\n",
    "#Predice con el modelo\n",
    "deteccion_email= spam_detector.predict(email_bien)\n",
    "\n",
    "print(f\"Texto del correo: {email[0]}\")\n",
    "print(f\"Predicción: {deteccion_email[0]} (Con un rango de 1 como spam y 0 no spam)\")\n",
    "\n",
    "    "
   ]
  }
 ],
 "metadata": {
  "kernelspec": {
   "display_name": "Python 3 (ipykernel)",
   "language": "python",
   "name": "python3"
  },
  "language_info": {
   "codemirror_mode": {
    "name": "ipython",
    "version": 3
   },
   "file_extension": ".py",
   "mimetype": "text/x-python",
   "name": "python",
   "nbconvert_exporter": "python",
   "pygments_lexer": "ipython3",
   "version": "3.11.5"
  }
 },
 "nbformat": 4,
 "nbformat_minor": 5
}
