{
 "cells": [
  {
   "cell_type": "markdown",
   "id": "25e406e4",
   "metadata": {},
   "source": [
    "# Python básico\n",
    "\n",
    "Ana Belén Romero Losada\n",
    "Departamento de Ciencias de la Computación e Inteligencia Artificial\n",
    "Universidad de Sevila\n",
    "\n",
    "En esta hoja de trabajo vamos a ver lo esencial de Python para poder empezar a practicar con el lenguaje.\n",
    "\n",
    "En el entorno Jupyter se trabaja Python sobre un notebook u hoja de trabajo. Esta hoja de trabajo está formada por una secuencia de cajas, que pueden ser de texto, en las que explicar ideas y conceptos, o de código, en las que definir o evaluar funciones Python.\n"
   ]
  },
  {
   "cell_type": "markdown",
   "id": "6f83aa55",
   "metadata": {},
   "source": [
    "##  Ejercicio 1\n",
    "\n",
    "Crea una función que resuelva una ecuación de segundo grado en jupyter y en R. Compara las diferencias a la hora de realizar operaciones aritméticas y lógicas, declarar variables/objetos y usar las estructuras de control. \n",
    "\n",
    "PISTA: existe una función llamada round() para redondear. Se usa como típicamente se usa en R."
   ]
  },
  {
   "cell_type": "code",
   "execution_count": 7,
   "id": "5a496365",
   "metadata": {},
   "outputs": [],
   "source": [
    "#Crea la funcion llamada calculadora\n",
    "##comprueba si el número que iría dentro de la raiz cuadrada es negativo\n",
    "###Devuelve 0 y un mensaje de error\n",
    "##en el caso que no lo sea, resuelve la ecuacion\n",
    "### imprime por pantalla los siguientes mensajes\n",
    "####\"ambas soluciones son válidas, x puede valer sol1 y sol2\"\n",
    "####\"Solo la solucion 1 es válida, x vale sol1\"\n",
    "####\"Solo la solucion 2 es válida, x vale sol2\"\n",
    "\n",
    "def calculadora(a,b,c):\n",
    "    discriminant=(b**2 - 4*a*c)\n",
    "    if discriminant < 0:\n",
    "        print(\"Esta ecuación no tiene solución\")\n",
    "    elif discriminant > 0:\n",
    "        sol1=(-b + math.sqrt(discriminant)/(2*a))\n",
    "        sol2=(-b - math.sqrt(discriminant)/(2*a))\n",
    "        test1=a*(sol1**2) + b*sol1 + c\n",
    "        test2=a*(sol2**2) + b*sol2 + c\n",
    "        if (round(test1) == 0) and (round(test2) == 0):\n",
    "            print(\"Ambas soluciones son válidas. El valor puede ser\", sol1, \"o\", sol2)\n",
    "\n",
    "        elif (round(test1) == 0) and (round(test2) != 0):\n",
    "            print(\"Solo la sol1 es válida, por lo que solo puede valer\", sol1)\n",
    "        elif (round(test1) != 0) and (round(test2) == 0):\n",
    "            print(\"Solo la sol2 es válida, por lo que solo puede valer\", sol2)\n",
    "\n",
    "        \n",
    "              "
   ]
  },
  {
   "cell_type": "code",
   "execution_count": 6,
   "id": "12dde7a4",
   "metadata": {},
   "outputs": [
    {
     "name": "stdout",
     "output_type": "stream",
     "text": [
      "Esta ecuación no tiene soloción\n"
     ]
    }
   ],
   "source": [
    "calculadora(2,4,7)"
   ]
  },
  {
   "cell_type": "markdown",
   "id": "0bdfc9f1",
   "metadata": {},
   "source": [
    "## Ejercicio 2\n",
    "\n",
    "Traduce este pseudocódigo a código en R y python simultáneamente. \n",
    "\n"
   ]
  },
  {
   "cell_type": "code",
   "execution_count": 55,
   "id": "d22b6179",
   "metadata": {},
   "outputs": [
    {
     "name": "stdout",
     "output_type": "stream",
     "text": [
      "6 9\n",
      "2 3 4\n"
     ]
    }
   ],
   "source": [
    "#Declara una variable llamada x que valga 2\n",
    "#Súmale 2 a x\n",
    "x=2\n",
    "x=x+2\n",
    "x+=2\n",
    "\n",
    "z=3\n",
    "z**=2\n",
    "print(x,z)\n",
    "\n",
    "# En r había que decir qué estábamos creacndo, tipo por ejemplo para un vector había que poner la c delante para que pudiera \n",
    "#Recogwer dif argumentos. \n",
    "\n",
    "#Aquí puedo dar valores a varaibles en conjunto, no hace falta que vaya uno por uno. \n",
    "x,y,b=2,3,4\n",
    "print(x,y,b)\n",
    "\n",
    "#Asignar valores a una variable, no hace falta sumar x = x + 2. \n",
    "#Esto se llaman las asignaciones aumentadas. \n",
    "# En R: vectores con c(), rep(), seq(), listas con list(), matrices matrix(), data.frame()\n"
   ]
  },
  {
   "cell_type": "code",
   "execution_count": 15,
   "id": "c04298d3",
   "metadata": {},
   "outputs": [
    {
     "data": {
      "text/plain": [
       "'h'"
      ]
     },
     "execution_count": 15,
     "metadata": {},
     "output_type": "execute_result"
    }
   ],
   "source": [
    "#Declara una variable llamada palabra que valga \"hola\"\n",
    "#Cuadrupicla la variable palabra\n",
    "palabra=\"hola \"\n",
    "palabra=palabra*4\n",
    "#palabra*=4\n",
    "palabra\n",
    "\n",
    "palabra[0]\n"
   ]
  },
  {
   "cell_type": "code",
   "execution_count": 17,
   "id": "a9457486",
   "metadata": {},
   "outputs": [
    {
     "name": "stdout",
     "output_type": "stream",
     "text": [
      "hola hola hola hola mundo que talmundo que tal\n"
     ]
    },
    {
     "data": {
      "text/plain": [
       "'hl'"
      ]
     },
     "execution_count": 17,
     "metadata": {},
     "output_type": "execute_result"
    }
   ],
   "source": [
    "#añade las palabras \"mundo que tal\" a palabra\n",
    "#encuentra en que posicion está mundo\n",
    "#escribelo en mayuscula y cuenta cuantas \"a\" hay (esto hazlo solo en python)\n",
    "palabra+=\"mundo que tal\"\n",
    "print(palabra)\n",
    "palabra.index(\"mundo\")\n",
    "\n",
    "palabra.upper()\n",
    "palabra.find(\"tal\")\n",
    "palabra.count(\"a\")\n",
    "\n",
    "# Puedo poner palabra [0:12] pero si pongo [0:12:2], y me va de dos en dos, es como el by en el seq de R.\n",
    "palabra\n",
    "palabra[0:4:2]\n",
    "\n",
    "# R usabamos la función rev o reverse para recorrer desde al final hasta el inicio.\n",
    "# Aquí podemos usar [::-1]"
   ]
  },
  {
   "cell_type": "markdown",
   "id": "cd1fc86f",
   "metadata": {},
   "source": [
    "## Ejercicio 3\n",
    "\n",
    "Vamos a prácticar con las demás clases de objetos en python."
   ]
  },
  {
   "cell_type": "code",
   "execution_count": 26,
   "id": "95a15183",
   "metadata": {},
   "outputs": [
    {
     "name": "stdout",
     "output_type": "stream",
     "text": [
      "(1, 2, 3, 4, 'hola') (4, 5, 6) (3,) ()\n"
     ]
    },
    {
     "data": {
      "text/plain": [
       "(1, 2, 3, 4, 'hola', 'Gloria')"
      ]
     },
     "execution_count": 26,
     "metadata": {},
     "output_type": "execute_result"
    }
   ],
   "source": [
    "#############tuplas\n",
    "#Crea una tupla con tres elementos, el elemento más parecido a un vector\n",
    "#Crea una tupla con un elemento\n",
    "#Crea una tupla vacía\n",
    "#recorre la tupla al revés\n",
    "#está el valor 6 en la tupla?\n",
    "#Concatena, es decir, añade al final de la tupla: el valor 10\n",
    "#Modifica el valor de la posición 2 en la tupla por la palabra \"hola\"\n",
    "\n",
    "tupla1=(1,2,3,4,\"hola\")\n",
    "tupla2=4,5,6\n",
    "tupla_uno=3,\n",
    "tupla_vacia=()\n",
    "print(tupla1, tupla2, tupla_uno, tupla_vacia)\n",
    "\n",
    "tupla1[::-1]\n",
    "\n",
    "# En vez de buscarlo con el find, lo que hacemos es x in _\n",
    "1 in tupla1\n",
    "\n",
    "# Asignaciones aumentadas en las tuplas. \"Gloria\" sería solo una cadena de carac, tengo que ponerlo para que concatene como tupla. \n",
    "tupla1+=\"Gloria\",\n",
    "tupla1\n",
    "# Python hay objetos que no son modificables como en R. En el vector podíamos cambiarle los elementos como quisieramos. \n",
    "# Si hacemos una función, usamos tupla vacía, metemos cosas y luego queremos modificarlo no vamos a poder. \n",
    "# Para ello necesitamos trabajar con las listas. \n",
    "# Las tuplas son interesantes para usar con cosas que ni por error queremos tocar ni modificar. \n",
    "# Por ejemplo con secuencias o datos obtenidos en una experimento. "
   ]
  },
  {
   "cell_type": "code",
   "execution_count": 61,
   "id": "305c0ac9",
   "metadata": {},
   "outputs": [
    {
     "data": {
      "text/plain": [
       "25"
      ]
     },
     "execution_count": 61,
     "metadata": {},
     "output_type": "execute_result"
    }
   ],
   "source": [
    "#############listas\n",
    "#Crea una lista que dentro tenga palabras\n",
    "#Modifica el valor de la posición 2 en la lista por la palabra \"hola\"\n",
    "#Concatena el valor 122 con tu lista\n",
    "#Concatena el valor \"hola\" con tu lista\n",
    "#transforma la lista en una string con la función .join\n",
    "\n",
    "lista=[\"Hola\", \"Gloria\", \"que\", \"tal\"]\n",
    "lista[2]=\"hola\"\n",
    "lista+=[\"hola\"]\n",
    "\n",
    "# Tengo que contacenaar con los corchetes para que se lo tome como una lista. \n",
    "\n",
    "# .append es para ir añadiendo a mi lista vacía. Voy añadiendo cosas.\n",
    "lista_vacia=[]\n",
    "lista_vacia.append(2)\n",
    "\n",
    "# .join hace que añade una cadena a los elementos de una lista.\n",
    "# NO PASA NÚMEROS\n",
    "# Pasa de lista a cadena de carácteres.\n",
    "\"y\".join(lista)\n",
    "\n",
    "lista\n",
    "\n",
    "\n",
    "prueba=5\n",
    "prueba**=2\n",
    "prueba"
   ]
  },
  {
   "cell_type": "code",
   "execution_count": 35,
   "id": "37b322bc",
   "metadata": {},
   "outputs": [],
   "source": [
    "#############Diccionarios\n",
    "#Crea un diccionario\n",
    "#accede al valor de la 2ª clave\n",
    "#Añade una clave nueva con su correspondiente valor\n",
    "#Accede solo a los valores, o solo a las claves"
   ]
  },
  {
   "cell_type": "code",
   "execution_count": null,
   "id": "73cea73d-d4db-448c-bd4b-216a800bcf8d",
   "metadata": {},
   "outputs": [],
   "source": [
    "###### FOR\n",
    "def mi_primer_bucle(lista):\n",
    "    #for (i in 1:length(lista))\n",
    "    for i in range(0,(len(lista)+1)):\n",
    "        # lista[i] <- x + 1\n",
    "        # Aquí en python se pueden hacer de las dos formas, la nueva es la más fácil pero viniendo de R quizás no es lo más intuitivo. \n",
    "    for numero in lista:\n",
    "        numero+1"
   ]
  }
 ],
 "metadata": {
  "kernelspec": {
   "display_name": "Python 3 (ipykernel)",
   "language": "python",
   "name": "python3"
  },
  "language_info": {
   "codemirror_mode": {
    "name": "ipython",
    "version": 3
   },
   "file_extension": ".py",
   "mimetype": "text/x-python",
   "name": "python",
   "nbconvert_exporter": "python",
   "pygments_lexer": "ipython3",
   "version": "3.11.5"
  }
 },
 "nbformat": 4,
 "nbformat_minor": 5
}
