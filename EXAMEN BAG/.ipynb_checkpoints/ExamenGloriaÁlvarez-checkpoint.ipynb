{
 "cells": [
  {
   "cell_type": "markdown",
   "id": "2063402d",
   "metadata": {},
   "source": [
    "# <span style=\"color:#0078DD\">EXAMEN BAG2023-24</span>\n",
    "### Proyecto de análisis de sentimientos con Python\n",
    "\n",
    "Gloria Álvarez Alegre.\n",
    "\n",
    "Grado en Bioquímica. "
   ]
  },
  {
   "cell_type": "code",
   "execution_count": 40,
   "id": "fd6f4407",
   "metadata": {},
   "outputs": [
    {
     "name": "stderr",
     "output_type": "stream",
     "text": [
      "[nltk_data] Downloading package stopwords to C:\\Users\\Jose\n",
      "[nltk_data]     Julia\\AppData\\Roaming\\nltk_data...\n",
      "[nltk_data]   Package stopwords is already up-to-date!\n"
     ]
    }
   ],
   "source": [
    "# Se importan todas las bibliotecas necesarias, como la de pandas\n",
    "\n",
    "import pandas as pd\n",
    "import numpy as np\n",
    "import re\n",
    "from sklearn.model_selection import train_test_split\n",
    "from sklearn.feature_extraction.text import CountVectorizer\n",
    "from sklearn.naive_bayes import MultinomialNB\n",
    "from sklearn.metrics import accuracy_score, classification_report, confusion_matrix\n",
    "from sklearn.pipeline import make_pipeline\n",
    "from sklearn import naive_bayes\n",
    "import nltk\n",
    "from nltk.corpus import stopwords\n",
    "from nltk.stem import PorterStemmer\n",
    "from nltk.tokenize import word_tokenize\n",
    "from nltk.tokenize import TweetTokenizer\n",
    "nltk.download('stopwords')\n",
    "from nltk.stem import SnowballStemmer \n",
    "from textblob import TextBlob\n",
    "from sklearn import preprocessing\n",
    "from sklearn.linear_model import LogisticRegression\n",
    "from sklearn.metrics import accuracy_score\n",
    "import matplotlib.pyplot as plt"
   ]
  },
  {
   "cell_type": "markdown",
   "id": "9a9db93f",
   "metadata": {},
   "source": [
    "### EJERCICIO 1. Recopilación de datos.\n",
    "\n",
    "Para la realización de esta tarea se usa un dataset de tweets en inglés (sin pre-procesar) obtenido de la base de datos Kaggle. Concretamente contamos con 27481 tweets.\n",
    "\n",
    "Dicho dataset proporciona información extra sobre los tweets como el usuario que lo publicó pero nos interesan los tweets en sí, por lo que solo guardamos la columna <span style=\"color:#B90108\">'text'</span>. Para ello, se usa la librería de análisis de datos *pandas*.\n"
   ]
  },
  {
   "cell_type": "code",
   "execution_count": 41,
   "id": "a3c93fa8",
   "metadata": {},
   "outputs": [
    {
     "data": {
      "text/html": [
       "<div>\n",
       "<style scoped>\n",
       "    .dataframe tbody tr th:only-of-type {\n",
       "        vertical-align: middle;\n",
       "    }\n",
       "\n",
       "    .dataframe tbody tr th {\n",
       "        vertical-align: top;\n",
       "    }\n",
       "\n",
       "    .dataframe thead th {\n",
       "        text-align: right;\n",
       "    }\n",
       "</style>\n",
       "<table border=\"1\" class=\"dataframe\">\n",
       "  <thead>\n",
       "    <tr style=\"text-align: right;\">\n",
       "      <th></th>\n",
       "      <th>text</th>\n",
       "    </tr>\n",
       "  </thead>\n",
       "  <tbody>\n",
       "    <tr>\n",
       "      <th>0</th>\n",
       "      <td>I`d have responded, if I were going</td>\n",
       "    </tr>\n",
       "    <tr>\n",
       "      <th>1</th>\n",
       "      <td>Sooo SAD I will miss you here in San Diego!!!</td>\n",
       "    </tr>\n",
       "    <tr>\n",
       "      <th>2</th>\n",
       "      <td>my boss is bullying me...</td>\n",
       "    </tr>\n",
       "    <tr>\n",
       "      <th>3</th>\n",
       "      <td>what interview! leave me alone</td>\n",
       "    </tr>\n",
       "    <tr>\n",
       "      <th>4</th>\n",
       "      <td>Sons of ****, why couldn`t they put them on t...</td>\n",
       "    </tr>\n",
       "  </tbody>\n",
       "</table>\n",
       "</div>"
      ],
      "text/plain": [
       "                                                text\n",
       "0                I`d have responded, if I were going\n",
       "1      Sooo SAD I will miss you here in San Diego!!!\n",
       "2                          my boss is bullying me...\n",
       "3                     what interview! leave me alone\n",
       "4   Sons of ****, why couldn`t they put them on t..."
      ]
     },
     "execution_count": 41,
     "metadata": {},
     "output_type": "execute_result"
    }
   ],
   "source": [
    "# Se leen los datos desde un archivo CSV y se selecciona solo la columna que nos interesa\n",
    "data = pd.read_csv('Tweets.csv', usecols = [\"text\"])\n",
    "data[0:5]"
   ]
  },
  {
   "cell_type": "markdown",
   "id": "834445fb",
   "metadata": {},
   "source": [
    "### EJERCICIO 2. Limpieza de texto, eliminar las palabras que no aportan información.\n",
    "\n",
    "Se crea la función limpiar_texto siguiendo los pasos que se piden. Se utiliza la biblioteca nltk (Natural Language Toolkit) para poder procesar el lenguaje natural. \n",
    "\n",
    "Se elimina cualquier cosa que no sea texto y las palabras denominadas como *stop words*. Posteriormente, se usa la función TweetTokenizer() incluida en nltk. \n",
    "\n",
    "Además, se utiliza la lematización o stemming, que es el proceso de reducir una palabra a su lema (representante de todas las formas flexionadas de una misma palabra). Es una técnica utilizada en procesamiento de lenguaje natural para simplificar las palabras a su forma base, lo que facilita el análisis y la comparación de texto. Aunque hay varios modelos, aquí se usa el modelo SnowballStemmer(), también incluido en nltk. "
   ]
  },
  {
   "cell_type": "code",
   "execution_count": 42,
   "id": "966933eb",
   "metadata": {},
   "outputs": [
    {
     "data": {
      "text/html": [
       "<div>\n",
       "<style scoped>\n",
       "    .dataframe tbody tr th:only-of-type {\n",
       "        vertical-align: middle;\n",
       "    }\n",
       "\n",
       "    .dataframe tbody tr th {\n",
       "        vertical-align: top;\n",
       "    }\n",
       "\n",
       "    .dataframe thead th {\n",
       "        text-align: right;\n",
       "    }\n",
       "</style>\n",
       "<table border=\"1\" class=\"dataframe\">\n",
       "  <thead>\n",
       "    <tr style=\"text-align: right;\">\n",
       "      <th></th>\n",
       "      <th>text</th>\n",
       "    </tr>\n",
       "  </thead>\n",
       "  <tbody>\n",
       "    <tr>\n",
       "      <th>0</th>\n",
       "      <td>id respond go</td>\n",
       "    </tr>\n",
       "    <tr>\n",
       "      <th>1</th>\n",
       "      <td>sooo sad miss san diego</td>\n",
       "    </tr>\n",
       "    <tr>\n",
       "      <th>2</th>\n",
       "      <td>boss bulli</td>\n",
       "    </tr>\n",
       "    <tr>\n",
       "      <th>3</th>\n",
       "      <td>interview leav alon</td>\n",
       "    </tr>\n",
       "    <tr>\n",
       "      <th>4</th>\n",
       "      <td>son couldnt put releas alreadi bought</td>\n",
       "    </tr>\n",
       "    <tr>\n",
       "      <th>...</th>\n",
       "      <td>...</td>\n",
       "    </tr>\n",
       "    <tr>\n",
       "      <th>27476</th>\n",
       "      <td>wish could come see u denver husband lost job ...</td>\n",
       "    </tr>\n",
       "    <tr>\n",
       "      <th>27477</th>\n",
       "      <td>ive wonder rake client made clear net dont for...</td>\n",
       "    </tr>\n",
       "    <tr>\n",
       "      <th>27478</th>\n",
       "      <td>yay good enjoy break probabl need hectic weeke...</td>\n",
       "    </tr>\n",
       "    <tr>\n",
       "      <th>27479</th>\n",
       "      <td>worth</td>\n",
       "    </tr>\n",
       "    <tr>\n",
       "      <th>27480</th>\n",
       "      <td>flirt go atg smile yay hug</td>\n",
       "    </tr>\n",
       "  </tbody>\n",
       "</table>\n",
       "<p>27481 rows × 1 columns</p>\n",
       "</div>"
      ],
      "text/plain": [
       "                                                    text\n",
       "0                                          id respond go\n",
       "1                                sooo sad miss san diego\n",
       "2                                             boss bulli\n",
       "3                                    interview leav alon\n",
       "4                  son couldnt put releas alreadi bought\n",
       "...                                                  ...\n",
       "27476  wish could come see u denver husband lost job ...\n",
       "27477  ive wonder rake client made clear net dont for...\n",
       "27478  yay good enjoy break probabl need hectic weeke...\n",
       "27479                                              worth\n",
       "27480                         flirt go atg smile yay hug\n",
       "\n",
       "[27481 rows x 1 columns]"
      ]
     },
     "execution_count": 42,
     "metadata": {},
     "output_type": "execute_result"
    }
   ],
   "source": [
    "def limpiar_texto(dataset):\n",
    "    dataset['text'] = dataset['text'].astype(str)  # Nos aseguramos de que todos los datos son de tipo string.\n",
    "    \n",
    "    # Se define el tokenizador para tweets, el stemmer para el procesamiento y la lista de stop words. \n",
    "    tokenizer = TweetTokenizer(preserve_case=False, reduce_len=True)  # Se usan estos dos parámetros para convertir todo en minúscula y reducir la aparición de caracteres repetidos más de 3 veces\n",
    "    stemmer = SnowballStemmer('english') \n",
    "    stop_words = set(stopwords.words('english'))\n",
    "    \n",
    "    for index, row in dataset.iterrows():   # Iterar sobre cada fila del DataFrame\n",
    "        texto = row['text']\n",
    "        texto_procesado = re.sub(r'@[^\\s]+|#[^\\s]+|http[^\\s]+|www[^\\s]+|[\\(\\)*<>]|[^\\w\\s?]', '', texto)\n",
    "\n",
    "        # Tokenización después de la limpieza, eliminación de stop words y stemming.\n",
    "        tokens = tokenizer.tokenize(texto_procesado)\n",
    "        tokens = [stemmer.stem(word) for word in tokens if word not in stop_words]\n",
    "        final_text = ' '.join(tokens)\n",
    "        \n",
    "        dataset.at[index, 'text'] = final_text  # Se reemplaza el texto original en el DataFrame\n",
    "    \n",
    "    return dataset\n",
    "\n",
    "\n",
    "# Se aplica la función a nuestros datos. \n",
    "limpiar_texto(data)"
   ]
  },
  {
   "cell_type": "markdown",
   "id": "67599777",
   "metadata": {},
   "source": [
    "### EJERCICIO 3. Etiquetado de datos con herramientas ya existentes.\n",
    "\n",
    "Se define la función clasificador tal y como se pide en el enunciado, los datos se almacena en una nueva columna denominada <span style=\"color:#B90108\"> 'sentiments' </span>."
   ]
  },
  {
   "cell_type": "code",
   "execution_count": 43,
   "id": "91304cd9",
   "metadata": {},
   "outputs": [
    {
     "data": {
      "text/html": [
       "<div>\n",
       "<style scoped>\n",
       "    .dataframe tbody tr th:only-of-type {\n",
       "        vertical-align: middle;\n",
       "    }\n",
       "\n",
       "    .dataframe tbody tr th {\n",
       "        vertical-align: top;\n",
       "    }\n",
       "\n",
       "    .dataframe thead th {\n",
       "        text-align: right;\n",
       "    }\n",
       "</style>\n",
       "<table border=\"1\" class=\"dataframe\">\n",
       "  <thead>\n",
       "    <tr style=\"text-align: right;\">\n",
       "      <th></th>\n",
       "      <th>text</th>\n",
       "      <th>sentiments</th>\n",
       "    </tr>\n",
       "  </thead>\n",
       "  <tbody>\n",
       "    <tr>\n",
       "      <th>0</th>\n",
       "      <td>id respond go</td>\n",
       "      <td>Neutro</td>\n",
       "    </tr>\n",
       "    <tr>\n",
       "      <th>1</th>\n",
       "      <td>sooo sad miss san diego</td>\n",
       "      <td>Hater</td>\n",
       "    </tr>\n",
       "    <tr>\n",
       "      <th>2</th>\n",
       "      <td>boss bulli</td>\n",
       "      <td>Neutro</td>\n",
       "    </tr>\n",
       "    <tr>\n",
       "      <th>3</th>\n",
       "      <td>interview leav alon</td>\n",
       "      <td>Neutro</td>\n",
       "    </tr>\n",
       "    <tr>\n",
       "      <th>4</th>\n",
       "      <td>son couldnt put releas alreadi bought</td>\n",
       "      <td>Neutro</td>\n",
       "    </tr>\n",
       "    <tr>\n",
       "      <th>...</th>\n",
       "      <td>...</td>\n",
       "      <td>...</td>\n",
       "    </tr>\n",
       "    <tr>\n",
       "      <th>27476</th>\n",
       "      <td>wish could come see u denver husband lost job ...</td>\n",
       "      <td>Neutro</td>\n",
       "    </tr>\n",
       "    <tr>\n",
       "      <th>27477</th>\n",
       "      <td>ive wonder rake client made clear net dont for...</td>\n",
       "      <td>Contento</td>\n",
       "    </tr>\n",
       "    <tr>\n",
       "      <th>27478</th>\n",
       "      <td>yay good enjoy break probabl need hectic weeke...</td>\n",
       "      <td>Muy feliz</td>\n",
       "    </tr>\n",
       "    <tr>\n",
       "      <th>27479</th>\n",
       "      <td>worth</td>\n",
       "      <td>Contento</td>\n",
       "    </tr>\n",
       "    <tr>\n",
       "      <th>27480</th>\n",
       "      <td>flirt go atg smile yay hug</td>\n",
       "      <td>Contento</td>\n",
       "    </tr>\n",
       "  </tbody>\n",
       "</table>\n",
       "<p>27481 rows × 2 columns</p>\n",
       "</div>"
      ],
      "text/plain": [
       "                                                    text sentiments\n",
       "0                                          id respond go     Neutro\n",
       "1                                sooo sad miss san diego      Hater\n",
       "2                                             boss bulli     Neutro\n",
       "3                                    interview leav alon     Neutro\n",
       "4                  son couldnt put releas alreadi bought     Neutro\n",
       "...                                                  ...        ...\n",
       "27476  wish could come see u denver husband lost job ...     Neutro\n",
       "27477  ive wonder rake client made clear net dont for...   Contento\n",
       "27478  yay good enjoy break probabl need hectic weeke...  Muy feliz\n",
       "27479                                              worth   Contento\n",
       "27480                         flirt go atg smile yay hug   Contento\n",
       "\n",
       "[27481 rows x 2 columns]"
      ]
     },
     "execution_count": 43,
     "metadata": {},
     "output_type": "execute_result"
    }
   ],
   "source": [
    "def clasificador(dataset):\n",
    "    pd.options.mode.chained_assignment = None  # Desactivar las advertencias\n",
    "    dataset['sentiments'] = ''  # Se crea una nueva columna en el DataFrame original\n",
    "\n",
    "    for indice, fila in dataset.iterrows():\n",
    "        texto = fila['text']\n",
    "        polaridad = TextBlob(texto).sentiment.polarity\n",
    "\n",
    "        if polaridad >= 0.5:\n",
    "            dataset['sentiments'][indice] = 'Muy feliz'\n",
    "        elif 0.5 > polaridad > 0:\n",
    "            dataset['sentiments'][indice] = 'Contento'\n",
    "        elif polaridad == 0:\n",
    "            dataset['sentiments'][indice] = 'Neutro'\n",
    "        elif 0 > polaridad >= -0.2:\n",
    "            dataset['sentiments'][indice] = 'Molesto'\n",
    "        elif polaridad < -0.2:\n",
    "            dataset['sentiments'][indice] = 'Hater'\n",
    "\n",
    "    return dataset\n",
    "\n",
    "# Se aplica la función a nuestros datos. \n",
    "clasificador(data)"
   ]
  },
  {
   "cell_type": "markdown",
   "id": "64769252",
   "metadata": {},
   "source": [
    "### EJERCICIO 4. Codificación de los atributos y objetivos.\n",
    "\n",
    "**CountVectorizer()** es una herramienta de scikit-learn, un codificador para el procesamiento de texto natural. Convierte una colección de textos en una matriz de recuentos de token. Cuenta la frecuencia de cada token en cada fila de nuestro dataset y crea una matriz donde las filas son los índices de nuestro dataset y las columnas son las palabras, con los valores siendo los recuentos de ocurrencias de esas palabras.\n",
    "\n",
    "Otro codificador que se podría ajustar mejor a tareas de análisis de sentimientos sería **TF-IDF Vectorizer** (Term Frequency-Inverse Document Frequency Vectorizer). Este método considera la frecuencia de un token en un documento pero también en el corpus completo. Los tokens muy frecuentes a nivel de documento y de corpus (posibles stop words) obtendrán un bajo valor de TF-IDF Vectorizer, mientras que los tokens que aparecen solo en ciertos documentos del corpus (más específicos) tendrán un IDF mayor que aquellos que aparecen en mayor número de documentos. \n",
    "\n",
    "TF-IDF asigna un peso a cada palabra en función de su relevancia en un documento, permitiendo filtrar stopwords sin el inconveniente de eliminarlas manualmente. Este enfoque destaca las palabras más relevantes para entender el contexto del corpus, ya que palabras que aparecen raramente en el conjunto de datos reciben un mayor peso de IDF.\n",
    "\n",
    "En resumidas cuentas, las palabras que tienen un mayor peso de IDF en el corpus son las que aparecen solo en ciertas partes de forma no muy recurrente respecto a la cantidad de palabras en el corpus. Por tanto,  la aplicación de análisis de sentimientos con TF-IDF Vectorizer proporciona una clasificación más precisa al tener en cuenta la relevancia contextual de las palabras en el corpus.\n",
    "\n",
    "Al objetivo, que en este caso es la columna <span style=\"color:#B90108\"> 'sentiments' </span>, se codifica usando **LabelEncoder()** que es específico para codificar etiquetas de clase en valores numéricos. Asigna un número único a cada etiqueta de clase (sentimiento) del conjunto de datos.\n",
    "\n",
    "Por último, tras codificar las variables, el conjunto de datos se separa en dos subconjuntos:\n",
    "   - Conjunto de entrenamiento. Se usa para construir el modelo, entrenarlo. El modelo ajusta sus parámetros utilizando este conjunto para aprender patrones y relaciones entre las entradas y las salidas.\n",
    "   - Conjunto de prueba. Para evaluar el rendimiento del modelo. El modelo realiza predicciones sobre este conjunto y se comparan esas predicciones con las respuestas reales (sentimientos) para evaluar su capacidad para generalizar a datos no vistos.\n",
    "    \n",
    "Para hacer esto, es importante que la separación sea estratificada, es decir, intentar que se mantenga la proporción de aparición de cada clasificación en ambos conjuntos. Para dividir dichos subjuntos manteniendo las proporciones se usa la función **train_test_split**. \n"
   ]
  },
  {
   "cell_type": "code",
   "execution_count": 44,
   "id": "9dcdebb8",
   "metadata": {},
   "outputs": [],
   "source": [
    "# Se crea una instancia. \n",
    "vectorizer = CountVectorizer()\n",
    "codificador_objetivo = preprocessing.LabelEncoder()\n",
    "\n",
    "# Se codifican a valores numéricos. \n",
    "atributos = vectorizer.fit_transform(data['text'])\n",
    "objetivo = codificador_objetivo.fit_transform(data['sentiments'])\n",
    "\n",
    "# Separación del conjunto de entrenamiento y el de prueba. \n",
    "(atributos_entrenamiento, atributos_prueba,\n",
    " objetivo_entrenamiento, objetivo_prueba) = train_test_split(\n",
    "        atributos, objetivo,\n",
    "        random_state=12345,\n",
    "        test_size=.2,   # 20% de los datos será el conjunto de prueba. \n",
    "        stratify=objetivo)\n"
   ]
  },
  {
   "cell_type": "code",
   "execution_count": 45,
   "id": "51979f9b",
   "metadata": {},
   "outputs": [
    {
     "name": "stdout",
     "output_type": "stream",
     "text": [
      "Conjunto         Tamaño Esperado    Tamaño Real\n",
      "-------------  -----------------  -------------\n",
      "Prueba                    5496.2           5497\n",
      "Entrenamiento            21984.8          21984\n",
      "\n",
      "Proporción de clases en el conjunto de prueba:\n",
      "Neutro       0.481717\n",
      "Contento     0.229034\n",
      "Muy feliz    0.139531\n",
      "Hater        0.097144\n",
      "Molesto      0.052574\n",
      "Name: proportion, dtype: float64\n",
      "\n",
      "Proporción de clases en el conjunto de entrenamiento:\n",
      "Neutro       0.481805\n",
      "Contento     0.228985\n",
      "Muy feliz    0.139465\n",
      "Hater        0.097162\n",
      "Molesto      0.052584\n",
      "Name: proportion, dtype: float64\n"
     ]
    }
   ],
   "source": [
    "# Se puede hacer la comprobación para ver el % de los datos en cada subconjunto y en la misma proporción. \n",
    "from tabulate import tabulate\n",
    "\n",
    "tabla_resultados = [\n",
    "    [\"Conjunto\", \"Tamaño Esperado\", \"Tamaño Real\"],\n",
    "    [\"Prueba\", len(data) * 0.2, atributos_prueba.shape[0]],\n",
    "    [\"Entrenamiento\", len(data) * 0.8, atributos_entrenamiento.shape[0]]\n",
    "]\n",
    "\n",
    "print(tabulate(tabla_resultados, headers=\"firstrow\"))\n",
    "print(\"\\nProporción de clases en el conjunto de prueba:\")\n",
    "print(pd.Series(codificador_objetivo.inverse_transform(objetivo_prueba)).value_counts(normalize=True))\n",
    "print(\"\\nProporción de clases en el conjunto de entrenamiento:\")\n",
    "print(pd.Series(codificador_objetivo.inverse_transform(objetivo_entrenamiento)).value_counts(normalize=True))"
   ]
  },
  {
   "cell_type": "markdown",
   "id": "4af8c5b1",
   "metadata": {},
   "source": [
    "### EJERCICIO 5. Entrenamiento del modelo.\n",
    "\n",
    "**Naive Bayes**\n",
    "\n",
    "Los clasificadores de Naïve Bayes representan un algoritmo de aprendizaje supervisado empleado en tareas de clasificación, como la categorización de texto. Forman parte de una familia de algoritmos de aprendizaje generativo, lo que implica su objetivo de modelar la distribución de las entradas de una clase o categoría específica. En el caso de MultinomialNB, el algortimo está diseñado específicamente para datos discretos como es nuestro caso. \n",
    "\n",
    "\n",
    "\n",
    "\n",
    "**Regresión logística multinomial**\n",
    "\n",
    "El modelo de mi elección es la Regresión Logística Multinomial pues destaca por su adaptabilidad a la diversidad de datos categórico. La Regresión Logística Multinomial resulta útil para clasificar sujetos basándonos en los valores de un conjunto de variables predictoras. A diferencia de la regresión logística convencional, no restringe la variable dependiente a dos categorías. En nuestro aso, la variable dependiente representa las categorías de sentimientos en los tweets, mientras que las variables independientes son las palabras en el texto."
   ]
  },
  {
   "cell_type": "code",
   "execution_count": 46,
   "id": "8744857d",
   "metadata": {},
   "outputs": [
    {
     "name": "stdout",
     "output_type": "stream",
     "text": [
      "Precisión del modelo Naive Bayes desarrollado es 77.44224122248498\n",
      "Precisión del modelo de Regresión Logística Multinomial desarrollado es 90.41295251955613\n"
     ]
    }
   ],
   "source": [
    "# Entrenamiento modelo Naive Bayes.\n",
    "sentiment_detector = MultinomialNB(alpha=1.0)  # alpha es el parámetro de suavizado\n",
    "sentiment_detector.fit(atributos_entrenamiento, objetivo_entrenamiento) # Se entrena el modelo con el conjunto de entrenamiento.\n",
    "predictions = sentiment_detector.predict(atributos_prueba) # Predicciones con el conjunto de prueba. \n",
    "precision = sentiment_detector.score(atributos_prueba, objetivo_prueba) # Se calcula la precisión del modelo. \n",
    "print(\"Precisión del modelo Naive Bayes desarrollado es\", precision*100)\n",
    "\n",
    "# Entrenamiento modelo de Regresión Logística Multinomial\n",
    "logistic_regression_model = LogisticRegression(multi_class='multinomial', max_iter=1000, solver='lbfgs')\n",
    "logistic_regression_model.fit(atributos_entrenamiento, objetivo_entrenamiento)\n",
    "logistic_regression_predictions = logistic_regression_model.predict(atributos_prueba)\n",
    "logistic_regression_accuracy = accuracy_score(objetivo_prueba, logistic_regression_predictions)\n",
    "print(\"Precisión del modelo de Regresión Logística Multinomial desarrollado es\", logistic_regression_accuracy * 100)"
   ]
  },
  {
   "cell_type": "markdown",
   "id": "6f39d7f5",
   "metadata": {},
   "source": [
    "### EJERCICIO 6. Usar el modelo entrenado.\n",
    "\n",
    "Se recopilan 30 tweets de personas con influencia en redes sociales. \n",
    "\n",
    "   - La persona elegida con una valoración positiva es Taylor Swift, una conocida cantante y compositora de country y pop. \n",
    "    \n",
    "   - Para la valoriación negativa he elegido a Emerald Robinson fue debido a su destacada presencia en medios, específicamente como corresponsal en la Casa Blanca para One America News Network y Newsmax. Sin embargo, su notoriedad se vio afectada por su despido de Newsmax debido a la promoción de teorías de conspiración y desinformación sobre la COVID-19 y las vacunas. Su comportamiento en redes sociales, que incluye comentarios controvertidos, resultó en suspensiones y, finalmente, en la prohibición permanente de su cuenta de Twitter al difundir información falsa.\n",
    "   \n",
    "Según los resultados que podemos ver en las gráficas, hay muchos tweets que se clasifican como neutros aunque tengan otras connotaciones, por lo que quizás se debería seguir mejorando el modelo."
   ]
  },
  {
   "cell_type": "code",
   "execution_count": 47,
   "id": "52213575",
   "metadata": {
    "scrolled": true
   },
   "outputs": [
    {
     "data": {
      "image/png": "[encoded data removed]",
      "text/plain": [
       "<Figure size 640x480 with 1 Axes>"
      ]
     },
     "metadata": {},
     "output_type": "display_data"
    }
   ],
   "source": [
    "taylor = pd.read_csv('Taylor.csv', usecols=[\"text\"])\n",
    "limpiar_texto(taylor)\n",
    "clasificador(taylor)\n",
    "\n",
    "taylor_sentiments = taylor['sentiments']\n",
    "distribucion_sentimientos = taylor_sentiments.value_counts()\n",
    "valores = distribucion_sentimientos.values\n",
    "etiquetas = distribucion_sentimientos.index\n",
    "plt.pie(valores, labels=etiquetas, autopct='%1.1f%%', startangle=90)\n",
    "plt.title('Distribución de sentimientos Taylor Swift')\n",
    "plt.show()"
   ]
  },
  {
   "cell_type": "code",
   "execution_count": 48,
   "id": "ec18830d",
   "metadata": {},
   "outputs": [
    {
     "data": {
      "image/png": "[encoded data removed]",
      "text/plain": [
       "<Figure size 640x480 with 1 Axes>"
      ]
     },
     "metadata": {},
     "output_type": "display_data"
    }
   ],
   "source": [
    "emerald = pd.read_csv('EmeraldRobinson.csv', usecols = [\"text\"])\n",
    "limpiar_texto(emerald)\n",
    "clasificador(emerald)\n",
    "conteos = emerald['sentiments'].value_counts().values\n",
    "etiquetas = emerald['sentiments'].value_counts().index\n",
    "plt.pie(conteos, labels=etiquetas, autopct='%1.1f%%', startangle=90)\n",
    "plt.title('Distribución de Sentimientos Emerald Robinson')\n",
    "plt.show()"
   ]
  }
 ],
 "metadata": {
  "kernelspec": {
   "display_name": "Python 3 (ipykernel)",
   "language": "python",
   "name": "python3"
  },
  "language_info": {
   "codemirror_mode": {
    "name": "ipython",
    "version": 3
   },
   "file_extension": ".py",
   "mimetype": "text/x-python",
   "name": "python",
   "nbconvert_exporter": "python",
   "pygments_lexer": "ipython3",
   "version": "3.11.5"
  }
 },
 "nbformat": 4,
 "nbformat_minor": 5
}
