{
 "cells": [
  {
   "cell_type": "markdown",
   "id": "5b3acfeb",
   "metadata": {},
   "source": [
    "# EXAMEN BAG"
   ]
  },
  {
   "cell_type": "markdown",
   "id": "20158b64",
   "metadata": {},
   "source": [
    "Gloria Álvarez Alegre"
   ]
  },
  {
   "cell_type": "code",
   "execution_count": 38,
   "id": "f6c8d15a",
   "metadata": {},
   "outputs": [
    {
     "name": "stdout",
     "output_type": "stream",
     "text": [
      "arabic danish dutch english finnish french german hungarian italian norwegian porter portuguese romanian russian spanish swedish\n"
     ]
    },
    {
     "name": "stderr",
     "output_type": "stream",
     "text": [
      "[nltk_data] Downloading package stopwords to C:\\Users\\Jose\n",
      "[nltk_data]     Julia\\AppData\\Roaming\\nltk_data...\n",
      "[nltk_data]   Package stopwords is already up-to-date!\n"
     ]
    }
   ],
   "source": [
    "# Se importan todas las bibliotecas necesarias, como la de pandas\n",
    "\n",
    "import pandas as pd\n",
    "import numpy as np\n",
    "import re\n",
    "from sklearn.model_selection import train_test_split\n",
    "from sklearn.feature_extraction.text import CountVectorizer\n",
    "from sklearn.naive_bayes import MultinomialNB\n",
    "from sklearn.metrics import accuracy_score, classification_report, confusion_matrix\n",
    "from sklearn.pipeline import make_pipeline\n",
    "from sklearn import naive_bayes\n",
    "\n",
    "\n",
    "import nltk\n",
    "from nltk.corpus import stopwords\n",
    "from nltk.stem import PorterStemmer\n",
    "from nltk.tokenize import word_tokenize\n",
    "from nltk.tokenize import TweetTokenizer\n",
    "nltk.download('stopwords')\n",
    "from nltk.stem import SnowballStemmer\n",
    "print(\" \".join(SnowballStemmer.languages)) \n",
    "from textblob import TextBlob\n",
    "from sklearn import preprocessing"
   ]
  },
  {
   "cell_type": "markdown",
   "id": "347bd4a3",
   "metadata": {},
   "source": [
    "EJERCICIO 1. Recopilación de datos. "
   ]
  },
  {
   "cell_type": "code",
   "execution_count": 100,
   "id": "4ccb8658",
   "metadata": {},
   "outputs": [
    {
     "data": {
      "text/html": [
       "<div>\n",
       "<style scoped>\n",
       "    .dataframe tbody tr th:only-of-type {\n",
       "        vertical-align: middle;\n",
       "    }\n",
       "\n",
       "    .dataframe tbody tr th {\n",
       "        vertical-align: top;\n",
       "    }\n",
       "\n",
       "    .dataframe thead th {\n",
       "        text-align: right;\n",
       "    }\n",
       "</style>\n",
       "<table border=\"1\" class=\"dataframe\">\n",
       "  <thead>\n",
       "    <tr style=\"text-align: right;\">\n",
       "      <th></th>\n",
       "      <th>text</th>\n",
       "    </tr>\n",
       "  </thead>\n",
       "  <tbody>\n",
       "    <tr>\n",
       "      <th>1</th>\n",
       "      <td>Sooo SAD I will miss you here in San Diego!!!</td>\n",
       "    </tr>\n",
       "    <tr>\n",
       "      <th>2</th>\n",
       "      <td>my boss is bullying me...</td>\n",
       "    </tr>\n",
       "    <tr>\n",
       "      <th>3</th>\n",
       "      <td>what interview! leave me alone</td>\n",
       "    </tr>\n",
       "    <tr>\n",
       "      <th>4</th>\n",
       "      <td>Sons of ****, why couldn`t they put them on t...</td>\n",
       "    </tr>\n",
       "  </tbody>\n",
       "</table>\n",
       "</div>"
      ],
      "text/plain": [
       "                                                text\n",
       "1      Sooo SAD I will miss you here in San Diego!!!\n",
       "2                          my boss is bullying me...\n",
       "3                     what interview! leave me alone\n",
       "4   Sons of ****, why couldn`t they put them on t..."
      ]
     },
     "execution_count": 100,
     "metadata": {},
     "output_type": "execute_result"
    }
   ],
   "source": [
    "# Se leen los datos desde un archivo CSV y se selecciona solo la columna que nos interesa\n",
    "data = pd.read_csv('Tweets.csv', usecols = [\"text\"])\n",
    "d = data[1:5]\n",
    "data[1:5]"
   ]
  },
  {
   "cell_type": "code",
   "execution_count": 40,
   "id": "a1d6ddc1",
   "metadata": {},
   "outputs": [
    {
     "name": "stdout",
     "output_type": "stream",
     "text": [
      "                                                text\n",
      "1      Sooo SAD I will miss you here in San Diego!!!\n",
      "2                          my boss is bullying me...\n",
      "3                     what interview! leave me alone\n",
      "4   Sons of ****, why couldn`t they put them on t...\n",
      "                                                text\n",
      "1      Sooo SAD I will miss you here in San Diego!!!\n",
      "2                          my boss is bullying me...\n",
      "3                     what interview! leave me alone\n",
      "4   Sons of ****, why couldn`t they put them on t...\n"
     ]
    },
    {
     "data": {
      "text/html": [
       "<div>\n",
       "<style scoped>\n",
       "    .dataframe tbody tr th:only-of-type {\n",
       "        vertical-align: middle;\n",
       "    }\n",
       "\n",
       "    .dataframe tbody tr th {\n",
       "        vertical-align: top;\n",
       "    }\n",
       "\n",
       "    .dataframe thead th {\n",
       "        text-align: right;\n",
       "    }\n",
       "</style>\n",
       "<table border=\"1\" class=\"dataframe\">\n",
       "  <thead>\n",
       "    <tr style=\"text-align: right;\">\n",
       "      <th></th>\n",
       "      <th>text</th>\n",
       "    </tr>\n",
       "  </thead>\n",
       "  <tbody>\n",
       "    <tr>\n",
       "      <th>1</th>\n",
       "      <td>Sooo SAD I will miss you here in San Diego!!!</td>\n",
       "    </tr>\n",
       "    <tr>\n",
       "      <th>2</th>\n",
       "      <td>my boss is bullying me...</td>\n",
       "    </tr>\n",
       "    <tr>\n",
       "      <th>3</th>\n",
       "      <td>what interview! leave me alone</td>\n",
       "    </tr>\n",
       "    <tr>\n",
       "      <th>4</th>\n",
       "      <td>Sons of ****, why couldn`t they put them on t...</td>\n",
       "    </tr>\n",
       "  </tbody>\n",
       "</table>\n",
       "</div>"
      ],
      "text/plain": [
       "                                                text\n",
       "1      Sooo SAD I will miss you here in San Diego!!!\n",
       "2                          my boss is bullying me...\n",
       "3                     what interview! leave me alone\n",
       "4   Sons of ****, why couldn`t they put them on t..."
      ]
     },
     "execution_count": 40,
     "metadata": {},
     "output_type": "execute_result"
    }
   ],
   "source": [
    "data2 = pd.read_csv('Tweets.csv')\n",
    "data3 = data2[['text']]\n",
    "#data = data[\"text\"]\n",
    "\n",
    "d3 = data3[1:5]\n",
    "print(data3[1:5])\n",
    "print(d)\n",
    "d\n",
    "#tknzr.tokenize_sents(d)"
   ]
  },
  {
   "cell_type": "code",
   "execution_count": 41,
   "id": "ef731f09",
   "metadata": {},
   "outputs": [
    {
     "data": {
      "text/html": [
       "<div>\n",
       "<style scoped>\n",
       "    .dataframe tbody tr th:only-of-type {\n",
       "        vertical-align: middle;\n",
       "    }\n",
       "\n",
       "    .dataframe tbody tr th {\n",
       "        vertical-align: top;\n",
       "    }\n",
       "\n",
       "    .dataframe thead th {\n",
       "        text-align: right;\n",
       "    }\n",
       "</style>\n",
       "<table border=\"1\" class=\"dataframe\">\n",
       "  <thead>\n",
       "    <tr style=\"text-align: right;\">\n",
       "      <th></th>\n",
       "      <th>text</th>\n",
       "    </tr>\n",
       "  </thead>\n",
       "  <tbody>\n",
       "    <tr>\n",
       "      <th>0</th>\n",
       "      <td>I`d have responded, if I were going</td>\n",
       "    </tr>\n",
       "    <tr>\n",
       "      <th>1</th>\n",
       "      <td>Sooo SAD I will miss you here in San Diego!!!</td>\n",
       "    </tr>\n",
       "    <tr>\n",
       "      <th>2</th>\n",
       "      <td>my boss is bullying me...</td>\n",
       "    </tr>\n",
       "    <tr>\n",
       "      <th>3</th>\n",
       "      <td>what interview! leave me alone</td>\n",
       "    </tr>\n",
       "    <tr>\n",
       "      <th>4</th>\n",
       "      <td>Sons of ****, why couldn`t they put them on t...</td>\n",
       "    </tr>\n",
       "    <tr>\n",
       "      <th>...</th>\n",
       "      <td>...</td>\n",
       "    </tr>\n",
       "    <tr>\n",
       "      <th>27476</th>\n",
       "      <td>wish we could come see u on Denver  husband l...</td>\n",
       "    </tr>\n",
       "    <tr>\n",
       "      <th>27477</th>\n",
       "      <td>I`ve wondered about rake to.  The client has ...</td>\n",
       "    </tr>\n",
       "    <tr>\n",
       "      <th>27478</th>\n",
       "      <td>Yay good for both of you. Enjoy the break - y...</td>\n",
       "    </tr>\n",
       "    <tr>\n",
       "      <th>27479</th>\n",
       "      <td>But it was worth it  ****.</td>\n",
       "    </tr>\n",
       "    <tr>\n",
       "      <th>27480</th>\n",
       "      <td>All this flirting going on - The ATG smiles...</td>\n",
       "    </tr>\n",
       "  </tbody>\n",
       "</table>\n",
       "<p>27481 rows × 1 columns</p>\n",
       "</div>"
      ],
      "text/plain": [
       "                                                    text\n",
       "0                    I`d have responded, if I were going\n",
       "1          Sooo SAD I will miss you here in San Diego!!!\n",
       "2                              my boss is bullying me...\n",
       "3                         what interview! leave me alone\n",
       "4       Sons of ****, why couldn`t they put them on t...\n",
       "...                                                  ...\n",
       "27476   wish we could come see u on Denver  husband l...\n",
       "27477   I`ve wondered about rake to.  The client has ...\n",
       "27478   Yay good for both of you. Enjoy the break - y...\n",
       "27479                         But it was worth it  ****.\n",
       "27480     All this flirting going on - The ATG smiles...\n",
       "\n",
       "[27481 rows x 1 columns]"
      ]
     },
     "execution_count": 41,
     "metadata": {},
     "output_type": "execute_result"
    }
   ],
   "source": [
    "\n",
    "data2 = pd.read_csv('Tweets.csv')\n",
    "data3 = data2[['text']]\n",
    "data3"
   ]
  },
  {
   "cell_type": "markdown",
   "id": "b1481b55",
   "metadata": {},
   "source": [
    "EJERCICIO 2. Limpieza del texto, eliminar palabras. "
   ]
  },
  {
   "cell_type": "markdown",
   "id": "17f3e919",
   "metadata": {},
   "source": [
    "La diferencia principal entre word_tokenize y TweetTokenizer en NLTK radica en cómo manejan ciertos patrones de tokenización, especialmente en el contexto de las redes sociales y los textos informales como tweets.\n",
    "\n",
    "word_tokenize:\n",
    "Divide el texto en palabras y signos de puntuación.\n",
    "Trata \"cannot\" como \"can\" y \"not\", dividiendo la palabra en dos tokens (\"can\" y \"not\").\n",
    "Es más general y se utiliza para texto en general.\n",
    "\n",
    "TweetTokenizer:\n",
    "Especificamente diseñado para manejar tokens en tweets y otros textos informales.\n",
    "Mantiene \"cannot\" como una sola palabra (\"cannot\").\n",
    "Reconoce emoticonos y maneja algunas convenciones específicas de los tweets, como hashtags y menciones.\n",
    "\n",
    "En resumen, TweetTokenizer está diseñado para trabajar mejor con texto de redes sociales y texto informal, mientras que word_tokenize es más general y puede dividir ciertas palabras de manera diferente. La elección entre ellos depende del tipo de texto con el que estés trabajando y de cómo quieras que se manejen ciertos patrones específicos."
   ]
  },
  {
   "cell_type": "code",
   "execution_count": 42,
   "id": "9945c51c",
   "metadata": {},
   "outputs": [
    {
     "name": "stdout",
     "output_type": "stream",
     "text": [
      "['I', 'can', 'not', 'can', 'not', 'work', 'under', 'these', 'conditions', '!']\n",
      "['I', 'cannot', 'cannot', 'work', 'under', 'these', 'conditions', '!']\n",
      "I cannot wait to see you @gloari, #queso http//hola I cannot wait to see you ,  \n",
      "hola\n"
     ]
    },
    {
     "name": "stderr",
     "output_type": "stream",
     "text": [
      "[nltk_data] Downloading package punkt to C:\\Users\\Jose\n",
      "[nltk_data]     Julia\\AppData\\Roaming\\nltk_data...\n",
      "[nltk_data]   Package punkt is already up-to-date!\n"
     ]
    },
    {
     "data": {
      "text/plain": [
       "float"
      ]
     },
     "execution_count": 42,
     "metadata": {},
     "output_type": "execute_result"
    }
   ],
   "source": [
    "# import nltk\n",
    "nltk.download('punkt')\n",
    "from nltk.tokenize import TweetTokenizer\n",
    "s4 = \"I cannot cannot work under these conditions!\"\n",
    "print(word_tokenize(s4))\n",
    "print(TweetTokenizer().tokenize(s4))\n",
    "\n",
    "\n",
    "import re\n",
    "s1 = \"I cannot wait to see you @gloari, #queso http//hola\"\n",
    "texto_procesado = re.sub(r'(@\\w+|#\\w+|http\\S+)', '', s1)\n",
    "print(s1, texto_procesado)\n",
    "\n",
    "\n",
    "s2 = \"HOLA\"\n",
    "print(s2.lower())\n",
    "\n",
    "s3 = 1.73\n",
    "type(s3)\n"
   ]
  },
  {
   "cell_type": "code",
   "execution_count": 43,
   "id": "0c4e0229",
   "metadata": {},
   "outputs": [
    {
     "name": "stdout",
     "output_type": "stream",
     "text": [
      "<nltk.tokenize.casual.TweetTokenizer object at 0x000001C35B24FD10>\n"
     ]
    }
   ],
   "source": [
    "s0 = \"This is a cooool #dummysmiley: :-) :-P <3 and some arrows < > -> <--\"\n",
    "print(TweetTokenizer(s0))"
   ]
  },
  {
   "cell_type": "code",
   "execution_count": 44,
   "id": "f2aa8fd6",
   "metadata": {},
   "outputs": [
    {
     "data": {
      "text/plain": [
       "['This',\n",
       " 'is',\n",
       " 'a',\n",
       " 'cooool',\n",
       " '#dummysmiley',\n",
       " ':',\n",
       " ':-)',\n",
       " ':-P',\n",
       " '<3',\n",
       " 'and',\n",
       " 'some',\n",
       " 'arrows',\n",
       " '<',\n",
       " '>',\n",
       " '->',\n",
       " '<--']"
      ]
     },
     "execution_count": 44,
     "metadata": {},
     "output_type": "execute_result"
    }
   ],
   "source": [
    "tknzr = TweetTokenizer()\n",
    "s0 = \"This is a cooool #dummysmiley: :-) :-P <3 and some arrows < > -> <--\"\n",
    "tknzr.tokenize(s0)\n",
    "#TweetTokenizer().tokenize(s0)"
   ]
  },
  {
   "cell_type": "code",
   "execution_count": 45,
   "id": "e1e6f011",
   "metadata": {
    "scrolled": true
   },
   "outputs": [
    {
     "ename": "IndentationError",
     "evalue": "unexpected indent (1050676386.py, line 10)",
     "output_type": "error",
     "traceback": [
      "\u001b[1;36m  Cell \u001b[1;32mIn[45], line 10\u001b[1;36m\u001b[0m\n\u001b[1;33m    if pd.isna(texto):\u001b[0m\n\u001b[1;37m    ^\u001b[0m\n\u001b[1;31mIndentationError\u001b[0m\u001b[1;31m:\u001b[0m unexpected indent\n"
     ]
    }
   ],
   "source": [
    "def float_texto(dataset):\n",
    "    for indice, fila in dataset.iterrows():\n",
    "        texto = fila['text']\n",
    "        if type(texto) == str:\n",
    "            print(texto)\n",
    "\n",
    "float_texto(data)\n",
    "        \n",
    "    \n",
    "    if pd.isna(texto):\n",
    "            # Verificar si el valor es NaN\n",
    "            print(\"NaN\")\n",
    "            print(fila)"
   ]
  },
  {
   "cell_type": "code",
   "execution_count": null,
   "id": "a56abec8",
   "metadata": {},
   "outputs": [],
   "source": [
    "import re"
   ]
  },
  {
   "cell_type": "code",
   "execution_count": null,
   "id": "205d16b2",
   "metadata": {},
   "outputs": [],
   "source": [
    "stop_words = set(stopwords.words('english'))\n",
    "# stop = stopwords.words('english')\n",
    "\n",
    "#print(stop, stop_words)\n",
    "stemmer = SnowballStemmer(language = 'english')\n",
    "# from nltk.stem.snowball import GermanStemmer\n",
    "# stemmer = GermanStemmer()\n",
    "\n",
    "s5 = \"cared and fairly playing football\"\n",
    "s5 = tknzr.tokenize(s5)\n",
    "#print(stemmer.stem(s5[3]))\n",
    "\n",
    "\n",
    "print(data[:10])\n",
    "\n",
    "def prueba_stop(dataset):\n",
    "    #dataset = dataset.astype(str)\n",
    "    tknzr = TweetTokenizer()\n",
    "    import_words = []\n",
    "    stop_words = set(stopwords.words('english'))\n",
    "    \n",
    "    for indice, fila in dataset.iterrows():\n",
    "        texto = fila['text']\n",
    "        texto_procesado = re.sub(r'(@\\w+|#\\w+|http\\S+)', '', texto)\n",
    "        texto_procesado = texto_procesado.lower()\n",
    "        texto_procesado = tknzr.tokenize(texto_procesado)\n",
    "        #print(texto)\n",
    "        for word in texto_procesado:\n",
    "            if word not in stop_words:\n",
    "                import_words.append(word)\n",
    "    print(import_words)\n",
    "\n",
    "\n",
    "prueba_stop(data[:10])\n"
   ]
  },
  {
   "cell_type": "code",
   "execution_count": null,
   "id": "1cd24e52",
   "metadata": {},
   "outputs": [],
   "source": [
    "#print(data[:10])\n",
    "\n",
    "def limpiar_texto(dataset):\n",
    "    dataset = dataset.astype(str)   # para asegurarnos de que todas las filas son cadenas y no otro tipo de dato\n",
    "    tknzr = TweetTokenizer()\n",
    "    stemmer = SnowballStemmer(language = 'english')\n",
    "    stem_words = []\n",
    "    stop_words = set(stopwords.words('english'))\n",
    "    \n",
    "    for indice, fila in dataset.iterrows():\n",
    "        texto = fila['text']\n",
    "        texto_procesado = re.sub(r'(@\\w+|#\\w+|http\\S+)', '', texto)\n",
    "        texto_procesado = texto_procesado.lower()\n",
    "        texto_procesado = tknzr.tokenize(texto_procesado)\n",
    "        stem_words = [stemmer.stem(word) for word in texto_procesado if word not in stop_words]\n",
    "        final_text = ' '.join(stem_words)\n",
    "        dataset.loc[indice, 'text'] = final_text\n",
    "\n",
    "    return dataset\n",
    "\n",
    " "
   ]
  },
  {
   "cell_type": "code",
   "execution_count": null,
   "id": "8ab1d9b0",
   "metadata": {},
   "outputs": [],
   "source": [
    "limpiar_texto(d3)"
   ]
  },
  {
   "cell_type": "code",
   "execution_count": null,
   "id": "afb09b70",
   "metadata": {},
   "outputs": [],
   "source": [
    "d3"
   ]
  },
  {
   "cell_type": "code",
   "execution_count": null,
   "id": "ba70c9e8",
   "metadata": {},
   "outputs": [],
   "source": [
    "def limpiar_texto3(dataset):\n",
    "    dataset = dataset.astype(str)\n",
    "    tknzr = TweetTokenizer()\n",
    "    stemmer = SnowballStemmer(language='english')\n",
    "    stop_words = set(stopwords.words('english'))\n",
    "\n",
    "    for indice, fila in dataset.iterrows():\n",
    "        texto = fila['text']\n",
    "        texto_procesado = re.sub(r'(@\\w+|#\\w+|http\\S+)', '', texto)\n",
    "        texto_procesado = texto_procesado.lower()\n",
    "        texto_procesado = tknzr.tokenize(texto_procesado)\n",
    "\n",
    "        # Inicializar la lista de stem_words para cada fila\n",
    "        stem_words = []\n",
    "\n",
    "        for word in texto_procesado:\n",
    "            # Utilizar expresión condicional completa\n",
    "            stem_words.append(stemmer.stem(word) if word not in stop_words else word)\n",
    "\n",
    "        final_text = ' '.join(stem_words)\n",
    "        dataset.at[indice, 'text'] = final_text\n",
    "\n",
    "    return dataset\n"
   ]
  },
  {
   "cell_type": "code",
   "execution_count": null,
   "id": "96927e1f",
   "metadata": {},
   "outputs": [],
   "source": [
    "limpiar_texto3(data)"
   ]
  },
  {
   "cell_type": "code",
   "execution_count": null,
   "id": "75d6e63f",
   "metadata": {},
   "outputs": [],
   "source": [
    "data"
   ]
  },
  {
   "cell_type": "markdown",
   "id": "ec45de89",
   "metadata": {},
   "source": [
    "Dentro de la función TweetTokenizer() tenemos opciones para hacer casi todo lo que nos piden con argumentos de ella misma, por lo que el código estará más depurado. \n",
    "    - reduce_len= True  <- repeated character seq of 3+ to just 3. \n",
    "    - strip_handles = True <- remove Twitter handles such as usernames.\n",
    "    - preserve_case = False <- uppercase tokens to lowercase ones. Emoticons not affected. "
   ]
  },
  {
   "cell_type": "code",
   "execution_count": null,
   "id": "c057e54c",
   "metadata": {},
   "outputs": [],
   "source": [
    "def limpiar_texto2(dataset):\n",
    "    dataset = dataset.astype(str)   # para asegurarnos de que todas las filas son cadenas y no otro tipo de dato\n",
    "    tknzr = TweetTokenizer(preserve_case = False, strip_handles = True, reduce_len = True)\n",
    "    for indice, fila in dataset.iterrows():\n",
    "        texto = fila['text']\n",
    "        texto_procesado = tknzr.tokenize(texto)\n",
    "        print(texto_procesado)\n",
    "    \n",
    "limpiar_texto2(data)"
   ]
  },
  {
   "cell_type": "code",
   "execution_count": null,
   "id": "fa8833a6",
   "metadata": {},
   "outputs": [],
   "source": [
    "data"
   ]
  },
  {
   "cell_type": "code",
   "execution_count": 110,
   "id": "23894f28",
   "metadata": {},
   "outputs": [
    {
     "data": {
      "text/html": [
       "<div>\n",
       "<style scoped>\n",
       "    .dataframe tbody tr th:only-of-type {\n",
       "        vertical-align: middle;\n",
       "    }\n",
       "\n",
       "    .dataframe tbody tr th {\n",
       "        vertical-align: top;\n",
       "    }\n",
       "\n",
       "    .dataframe thead th {\n",
       "        text-align: right;\n",
       "    }\n",
       "</style>\n",
       "<table border=\"1\" class=\"dataframe\">\n",
       "  <thead>\n",
       "    <tr style=\"text-align: right;\">\n",
       "      <th></th>\n",
       "      <th>text</th>\n",
       "    </tr>\n",
       "  </thead>\n",
       "  <tbody>\n",
       "    <tr>\n",
       "      <th>0</th>\n",
       "      <td>` respond , go</td>\n",
       "    </tr>\n",
       "    <tr>\n",
       "      <th>1</th>\n",
       "      <td>sooo sad miss san diego ! ! !</td>\n",
       "    </tr>\n",
       "    <tr>\n",
       "      <th>2</th>\n",
       "      <td>boss bulli ...</td>\n",
       "    </tr>\n",
       "    <tr>\n",
       "      <th>3</th>\n",
       "      <td>interview ! leav alon</td>\n",
       "    </tr>\n",
       "    <tr>\n",
       "      <th>4</th>\n",
       "      <td>son * * * , ` put relea alreadi bought</td>\n",
       "    </tr>\n",
       "    <tr>\n",
       "      <th>...</th>\n",
       "      <td>...</td>\n",
       "    </tr>\n",
       "    <tr>\n",
       "      <th>27476</th>\n",
       "      <td>wish could come see u denver husband lost job ...</td>\n",
       "    </tr>\n",
       "    <tr>\n",
       "      <th>27477</th>\n",
       "      <td>` wonder rake . client made clear . net , ` fo...</td>\n",
       "    </tr>\n",
       "    <tr>\n",
       "      <th>27478</th>\n",
       "      <td>yay good . enjoy break - probabl need hectic w...</td>\n",
       "    </tr>\n",
       "    <tr>\n",
       "      <th>27479</th>\n",
       "      <td>worth * * * .</td>\n",
       "    </tr>\n",
       "    <tr>\n",
       "      <th>27480</th>\n",
       "      <td>flirt go - atg smile . yay . ( ( hug ) )</td>\n",
       "    </tr>\n",
       "  </tbody>\n",
       "</table>\n",
       "<p>27481 rows × 1 columns</p>\n",
       "</div>"
      ],
      "text/plain": [
       "                                                    text\n",
       "0                                         ` respond , go\n",
       "1                          sooo sad miss san diego ! ! !\n",
       "2                                         boss bulli ...\n",
       "3                                  interview ! leav alon\n",
       "4                 son * * * , ` put relea alreadi bought\n",
       "...                                                  ...\n",
       "27476  wish could come see u denver husband lost job ...\n",
       "27477  ` wonder rake . client made clear . net , ` fo...\n",
       "27478  yay good . enjoy break - probabl need hectic w...\n",
       "27479                                      worth * * * .\n",
       "27480           flirt go - atg smile . yay . ( ( hug ) )\n",
       "\n",
       "[27481 rows x 1 columns]"
      ]
     },
     "execution_count": 110,
     "metadata": {},
     "output_type": "execute_result"
    }
   ],
   "source": [
    "def limpiar_textodef(dataset):\n",
    "    dataset['text'] = dataset['text'].astype(str)  # Nos aseguramos de que todos los datos son de tipo string.\n",
    "    \n",
    "    # Se define el tokenizador para tweets, el stemmer para el procesamiento y la lista de stop words. \n",
    "    tokenizer = TweetTokenizer(preserve_case = False, reduce_len=True) # Se usan estos dos parámetros para convertir todo en minúscula y reducir la aparición de carácteres repetidos más de 3 veces\n",
    "    stemmer = SnowballStemmer('english') \n",
    "    stop_words = set(stopwords.words('english'))\n",
    "    \n",
    "    for index, row in dataset.iterrows():   # Iterar sobre cada fila del DataFrame\n",
    "        texto = row['text']\n",
    "#         texto_procesado = re.sub(r'@[^\\s]+|#[^\\s]+|http[^\\s]+|www[^\\s]+', '', texto) # Eliminar menciones, hashtags, URLs y caracteres no alfabéticos del texto\n",
    "     # Eliminar menciones, hashtags, URLs y caracteres no alfabéticos del texto\n",
    "        # Eliminar menciones, hashtags, URLs, caracteres no alfabéticos, asteriscos y paréntesis del texto\n",
    "        # Eliminar menciones, hashtags, URLs, caracteres no alfabéticos, asteriscos y paréntesis del texto\n",
    "        texto_procesado = re.sub(r'@[^\\s]+|#[^\\s]+|http[^\\s]+|www[^\\s]+|[^\\w*?()\\s]+', '', texto)\n",
    "\n",
    "\n",
    "\n",
    "        # Tokenización, eliminación de stop words y stemming.\n",
    "        tokens = tokenizer.tokenize(texto)\n",
    "        tokens = [stemmer.stem(word) for word in tokens if word not in stop_words]\n",
    "        final_text = ' '.join(tokens)\n",
    "        \n",
    "        dataset.at[index, 'text'] = final_text  # Se reemplaza el texto original en el DataFrame\n",
    "    \n",
    "    return dataset\n",
    "\n",
    "\n",
    "# Se aplica la función a nuestros datos. \n",
    "limpiar_textodef(data)\n",
    "\n",
    "\n"
   ]
  },
  {
   "cell_type": "code",
   "execution_count": null,
   "id": "06fd2766",
   "metadata": {},
   "outputs": [],
   "source": [
    "data"
   ]
  },
  {
   "cell_type": "code",
   "execution_count": null,
   "id": "63bfa038",
   "metadata": {},
   "outputs": [],
   "source": [
    "tweets = pd.read_csv('Tweets.csv')\n",
    "tweets=tweets[\"text\"]"
   ]
  },
  {
   "cell_type": "code",
   "execution_count": null,
   "id": "2cc58a5c",
   "metadata": {},
   "outputs": [],
   "source": [
    "def limpiar_textovicente(dataset):\n",
    "    dataset = dataset.astype(str)\n",
    "    for n in range(0,len(dataset)-1):\n",
    "        texto_limpio = re.sub(r\"@\\w+|#\\w+|https?://\\S+|www\\.\\S+\",\"\",dataset[n])\n",
    "        texto_minusculas = texto_limpio.lower()\n",
    "        tokenizer = TweetTokenizer()\n",
    "        texto_separado = tokenizer.tokenize(texto_minusculas)\n",
    "        \n",
    "        stop_words = set(stopwords.words('english'))\n",
    "        \n",
    "        texto_filtrado = []\n",
    "        for palabra in texto_separado:\n",
    "            if palabra not in stop_words:\n",
    "                texto_filtrado.append(palabra)\n",
    "            \n",
    "            lematizacion = SnowballStemmer(\"english\")\n",
    "            lexemas = [lematizacion.stem(palabra) for palabra in texto_filtrado]\n",
    "        \n",
    "        texto_final = \" \".join(lexemas)\n",
    "        dataset[n]=texto_final\n",
    "    \n",
    "    return dataset"
   ]
  },
  {
   "cell_type": "code",
   "execution_count": null,
   "id": "7c6625b2",
   "metadata": {},
   "outputs": [],
   "source": [
    "limpiar_textovicente(d)"
   ]
  },
  {
   "cell_type": "markdown",
   "id": "6b8b37eb",
   "metadata": {},
   "source": [
    "EJERCICIO 3. Etiquetado de datos con herramientas ya \n",
    "existentes. (2p)\n",
    "Define una función llamada clasificador que toma el dataset con el texto procesado y limpio \n",
    "como entrada. El resultado de este proceso debe almacenarse en un archivo CSV con dos columnas:\n",
    "una para la frase o texto y otra para la etiqueta correspondiente.\n",
    "\n",
    "➢ Para cada línea de texto del data set, la función debe:\n",
    "\n",
    "    ➢ Utilizar el modelo TextBlob para realizar un análisis de sentimiento. Investiga cómo hacerlo.\n",
    "\n",
    "    ➢ En función de la polaridad calculada, clasificar el sentimiento en categorías específicas. Las categorías deben incluir \"Contento\", \"Muy feliz\", \"Neutro\", \"Molesto\" y \"Hater\".\n",
    "\n",
    "➢ Finalmente, guardar los resultados como una columna nueva en el dataset.\n"
   ]
  },
  {
   "cell_type": "code",
   "execution_count": 95,
   "id": "433a4254",
   "metadata": {},
   "outputs": [
    {
     "name": "stdout",
     "output_type": "stream",
     "text": [
      "Sentiment(polarity=-0.2, subjectivity=0.0) Sentiment(polarity=-0.8, subjectivity=0.9)\n"
     ]
    },
    {
     "data": {
      "text/html": [
       "<div>\n",
       "<style scoped>\n",
       "    .dataframe tbody tr th:only-of-type {\n",
       "        vertical-align: middle;\n",
       "    }\n",
       "\n",
       "    .dataframe tbody tr th {\n",
       "        vertical-align: top;\n",
       "    }\n",
       "\n",
       "    .dataframe thead th {\n",
       "        text-align: right;\n",
       "    }\n",
       "</style>\n",
       "<table border=\"1\" class=\"dataframe\">\n",
       "  <thead>\n",
       "    <tr style=\"text-align: right;\">\n",
       "      <th></th>\n",
       "      <th>text</th>\n",
       "    </tr>\n",
       "  </thead>\n",
       "  <tbody>\n",
       "    <tr>\n",
       "      <th>10</th>\n",
       "      <td>as much as i love to be hopeful, i reckon the...</td>\n",
       "    </tr>\n",
       "    <tr>\n",
       "      <th>11</th>\n",
       "      <td>I really really like the song Love Story by Ta...</td>\n",
       "    </tr>\n",
       "    <tr>\n",
       "      <th>12</th>\n",
       "      <td>My Sharpie is running DANGERously low on ink</td>\n",
       "    </tr>\n",
       "    <tr>\n",
       "      <th>13</th>\n",
       "      <td>i want to go to music tonight but i lost my vo...</td>\n",
       "    </tr>\n",
       "    <tr>\n",
       "      <th>14</th>\n",
       "      <td>test test from the LG enV2</td>\n",
       "    </tr>\n",
       "    <tr>\n",
       "      <th>15</th>\n",
       "      <td>Uh oh, I am sunburned</td>\n",
       "    </tr>\n",
       "    <tr>\n",
       "      <th>16</th>\n",
       "      <td>S`ok, trying to plot alternatives as we speak...</td>\n",
       "    </tr>\n",
       "    <tr>\n",
       "      <th>17</th>\n",
       "      <td>i`ve been sick for the past few days  and thus...</td>\n",
       "    </tr>\n",
       "    <tr>\n",
       "      <th>18</th>\n",
       "      <td>is back home now      gonna miss every one</td>\n",
       "    </tr>\n",
       "    <tr>\n",
       "      <th>19</th>\n",
       "      <td>Hes just not that into you</td>\n",
       "    </tr>\n",
       "    <tr>\n",
       "      <th>20</th>\n",
       "      <td>oh Marly, I`m so sorry!!  I hope you find her...</td>\n",
       "    </tr>\n",
       "    <tr>\n",
       "      <th>21</th>\n",
       "      <td>Playing Ghost Online is really interesting. Th...</td>\n",
       "    </tr>\n",
       "    <tr>\n",
       "      <th>22</th>\n",
       "      <td>is cleaning the house for her family who is co...</td>\n",
       "    </tr>\n",
       "  </tbody>\n",
       "</table>\n",
       "</div>"
      ],
      "text/plain": [
       "                                                 text\n",
       "10   as much as i love to be hopeful, i reckon the...\n",
       "11  I really really like the song Love Story by Ta...\n",
       "12       My Sharpie is running DANGERously low on ink\n",
       "13  i want to go to music tonight but i lost my vo...\n",
       "14                         test test from the LG enV2\n",
       "15                              Uh oh, I am sunburned\n",
       "16   S`ok, trying to plot alternatives as we speak...\n",
       "17  i`ve been sick for the past few days  and thus...\n",
       "18         is back home now      gonna miss every one\n",
       "19                         Hes just not that into you\n",
       "20   oh Marly, I`m so sorry!!  I hope you find her...\n",
       "21  Playing Ghost Online is really interesting. Th...\n",
       "22  is cleaning the house for her family who is co..."
      ]
     },
     "execution_count": 95,
     "metadata": {},
     "output_type": "execute_result"
    }
   ],
   "source": [
    "# from textblob import TextBlob\n",
    "\n",
    "# Ejemplo de texto\n",
    "texto = \"“Israel is bombing Lebanon, Syria and Gaza, and you’re worrying about Yemen interfering with ships?”“Israel has killed 30,000 Palestinians. The Yemenis have killed nobody.”—Irish MEP Mick Wallace blasting the EU for its hypocrisy.\"\n",
    "texto1 = \"i hate you a lot, i want to kill you, murder you, commit war crimes,suicide, kill myself and all my family, kill babies\"\n",
    "# Crear un objeto TextBlob\n",
    "blob = TextBlob(texto)\n",
    "blob1 = TextBlob(texto1)\n",
    "\n",
    "# Analizar el sentimiento\n",
    "sentimiento = blob.sentiment\n",
    "sentimiento1 = blob1.sentiment\n",
    "\n",
    "# Imprimir el resultado\n",
    "print(sentimiento, sentimiento1)\n",
    "\n",
    "\n",
    "data[10:23]"
   ]
  },
  {
   "cell_type": "code",
   "execution_count": 56,
   "id": "04c08ada",
   "metadata": {},
   "outputs": [],
   "source": [
    "def clasificador(dataset):\n",
    "    sentiments = {}\n",
    "    for indice, fila in dataset.iterrows():\n",
    "        texto = fila['text']\n",
    "        polaridad = TextBlob(texto).sentiment.polarity\n",
    "\n",
    "        #blob = TextBlob(texto).sentiment.polarity\n",
    "        #sentiments.append(TextBlob(texto).sentiment.polarity)\n",
    "#         sentiments[indice] = TextBlob(texto).sentiment.polarity\n",
    "        if polaridad >= 0.5:\n",
    "            sentiments[indice] == 'Muy feliz'\n",
    "        elif 0.5 > polaridad > 0:\n",
    "            sentiments[indice] == 'Contento'\n",
    "        elif polaridad == 0:\n",
    "            sentiments[indice] == 'Neutro'\n",
    "        elif 0 > polaridad >= -0.5:\n",
    "            sentiments[indice] == 'Molesto'\n",
    "        elif polaridad < -0.5:\n",
    "            sentiments[indice] == 'Hater'\n",
    "            \n",
    "\n",
    "\n",
    "def clasificador2(dataset):\n",
    "    pd.options.mode.chained_assignment = None  # Desactivar las advertencias\n",
    "    dataset['sentiments'] = ''  # Se crea una nueva columna en el DataFrame original\n",
    "\n",
    "    for indice, fila in dataset.iterrows():\n",
    "        texto = fila['text']\n",
    "        polaridad = TextBlob(texto).sentiment.polarity\n",
    "\n",
    "        if polaridad >= 0.5:\n",
    "            dataset['sentiments'][indice] = 'Muy feliz'\n",
    "        elif 0.5 > polaridad > 0:\n",
    "            dataset['sentiments'][indice] = 'Contento'\n",
    "        elif polaridad == 0:\n",
    "            dataset['sentiments'][indice] = 'Neutro'\n",
    "        elif 0 > polaridad >= -0.2:\n",
    "            dataset['sentiments'][indice] = 'Molesto'\n",
    "        elif polaridad < -0.2:\n",
    "            dataset['sentiments'][indice] = 'Hater'\n",
    "\n",
    "    return dataset\n"
   ]
  },
  {
   "cell_type": "code",
   "execution_count": null,
   "id": "2618f12e",
   "metadata": {},
   "outputs": [],
   "source": [
    "clasificador2(data)\n",
    "data[20:45]"
   ]
  },
  {
   "cell_type": "code",
   "execution_count": null,
   "id": "340170e5",
   "metadata": {},
   "outputs": [],
   "source": [
    "def text_sentiment(text):\n",
    "    testimonial = TextBlob(text)\n",
    "#     return int(testimonial.sentiment.polarity>0.5)"
   ]
  },
  {
   "cell_type": "code",
   "execution_count": null,
   "id": "991a5b1e",
   "metadata": {},
   "outputs": [],
   "source": []
  },
  {
   "cell_type": "code",
   "execution_count": null,
   "id": "be6c34b0",
   "metadata": {},
   "outputs": [],
   "source": [
    "def limpiar_textovicente2(dataset):\n",
    "    dataset = dataset.astype(str)\n",
    "    for n in range(len(dataset)):\n",
    "        texto_limpio = re.sub(r\"@\\w+|#\\w+|https?://\\S+|www\\.\\S+\",\"\", dataset['text'].iloc[n])\n",
    "        texto_minusculas = texto_limpio.lower()\n",
    "        tokenizer = TweetTokenizer()\n",
    "        texto_separado = tokenizer.tokenize(texto_minusculas)\n",
    "        \n",
    "        stop_words = set(stopwords.words('english'))\n",
    "        \n",
    "        texto_filtrado = [palabra for palabra in texto_separado if palabra not in stop_words]\n",
    "        \n",
    "        lematizacion = SnowballStemmer(\"english\")\n",
    "        lexemas = [lematizacion.stem(palabra) for palabra in texto_filtrado]\n",
    "        \n",
    "        texto_final = \" \".join(lexemas)\n",
    "        dataset.at[n, 'text'] = texto_final\n",
    "    \n",
    "    return dataset\n"
   ]
  },
  {
   "cell_type": "code",
   "execution_count": null,
   "id": "c060cff2",
   "metadata": {},
   "outputs": [],
   "source": []
  },
  {
   "cell_type": "markdown",
   "id": "fb8e48ec",
   "metadata": {},
   "source": [
    "# Ejercicio4: Codificación de los atributos y objetivos. (1p)\n",
    "Investiga cómo funciona CountVectorizer () e investiga si existe otro codificador que se ajuste\n",
    "mejor a tu tarea. Una vez codificado, separa el conjunto de entrenamiento del conjunto de prueba.\n",
    "\n",
    "La columna que recoge los sentimientos se tiene que preprocesar con LabelEncoder() pues es necesario codificar la variable objetivo discreta a numérica, es decir, cada clasificación (sentimiento) la pasa a un número. \n",
    "\n",
    "CountVectorizer() es un codificador para el procesamiento de texto natural. Convierte una colección de textos en una matriz de recuentos de token. Cada fila representará un token y los valores serán los recuentos de aparición de cada token.\n",
    "\n",
    "El método fit permite entrenar el modelo, dados por separado el conjunto de ejemplos de entrenamiento y la clase de cada uno de estos ejemplos.\n",
    "\n",
    "Tras codificar las variables, el conjunto de datos se separa en dos subconjuntos:\n",
    "    - Conjunto de entrenamiento. Se usa para construir el modelo. \n",
    "    - Conjunto de prueba. Se compara\n",
    "    \n",
    "Para hacer esto, es importante que la separación sea estratificada, es decir, intentar que se mantenga la proporción de aparición de cada clasificación en ambos conjuntos. Para dividir dichos subjuntos manteniendo las proporciones se usa la función train_test_split. \n"
   ]
  },
  {
   "cell_type": "code",
   "execution_count": null,
   "id": "ecd419d6",
   "metadata": {},
   "outputs": [],
   "source": [
    "from sklearn.feature_extraction.text import CountVectorizer\n",
    "from sklearn.model_selection import train_test_split\n",
    "\n",
    "# Se crea una instancia. \n",
    "vectorizer = CountVectorizer()\n",
    "codificador_objetivo = preprocessing.LabelEncoder()\n",
    "\n",
    "# Se convierten a valores numéricos. \n",
    "atributos = vectorizer.fit_transform(data['text'])\n",
    "objetivo = codificador_objetivo.fit_transform(data['sentiments'])\n",
    "\n",
    "# Separación del conjunto de entrenamiento y el de prueba. \n",
    "(atributos_entrenamiento, atributos_prueba,\n",
    " objetivo_entrenamiento, objetivo_prueba) = train_test_split(\n",
    "        atributos, objetivo,\n",
    "        random_state=12345,\n",
    "        test_size=.2,   # 20% de los datos será el conjunto de prueba. \n",
    "        stratify=objetivo)\n"
   ]
  },
  {
   "cell_type": "code",
   "execution_count": 105,
   "id": "34840e6b",
   "metadata": {},
   "outputs": [
    {
     "name": "stdout",
     "output_type": "stream",
     "text": [
      "Cantidad de ejemplos de pruebas requeridos: 5496.200000000001\n",
      "Filas del array de atributos de prueba: 5497\n",
      "Longitud del vector de objetivos de prueba: 5497\n",
      "Proporción de clases en el vector de objetivos de prueba:\n",
      "Neutro       0.471894\n",
      "Contento     0.227761\n",
      "Muy feliz    0.157540\n",
      "Molesto      0.108605\n",
      "Hater        0.034200\n",
      "Name: proportion, dtype: float64\n"
     ]
    }
   ],
   "source": [
    "# Comprobamos que el conjunto de prueba contiene el 33 % de los datos, en la misma proporción\n",
    "# con respecto a la variable objetivo\n",
    "print('Cantidad de ejemplos de pruebas requeridos:', 27481 * .2)\n",
    "print('Filas del array de atributos de prueba:', atributos_prueba.shape[0])\n",
    "print('Longitud del vector de objetivos de prueba:', len(objetivo_prueba))\n",
    "print('Proporción de clases en el vector de objetivos de prueba:')\n",
    "print(pd.Series(\n",
    "        codificador_objetivo.inverse_transform(objetivo_prueba)\n",
    "      ).value_counts(normalize=True))"
   ]
  },
  {
   "cell_type": "code",
   "execution_count": 106,
   "id": "9de61123",
   "metadata": {},
   "outputs": [
    {
     "name": "stdout",
     "output_type": "stream",
     "text": [
      "Cantidad de ejemplos de entrenamiento requeridos: 21984.800000000003\n",
      "Filas del array de atributos de entrenamiento: 21984\n",
      "Longitud del vector de objetivos de entrenamiento: 21984\n",
      "Proporción de clases en el vector de objetivos de entrenamiento:\n",
      "Neutro       0.471843\n",
      "Contento     0.227802\n",
      "Muy feliz    0.157433\n",
      "Molesto      0.108670\n",
      "Hater        0.034252\n",
      "Name: proportion, dtype: float64\n"
     ]
    }
   ],
   "source": [
    "# Comprobamos que el conjunto de entrenamiento contiene el resto de los datos, en la misma\n",
    "# proporción con respecto a la variable objetivo\n",
    "print('Cantidad de ejemplos de entrenamiento requeridos:', 27481 * .8)\n",
    "print('Filas del array de atributos de entrenamiento:', atributos_entrenamiento.shape[0])\n",
    "print('Longitud del vector de objetivos de entrenamiento:', len(objetivo_entrenamiento))\n",
    "print('Proporción de clases en el vector de objetivos de entrenamiento:')\n",
    "print(pd.Series(\n",
    "        codificador_objetivo.inverse_transform(objetivo_entrenamiento)\n",
    "      ).value_counts(normalize=True))\n"
   ]
  },
  {
   "cell_type": "markdown",
   "id": "a5036640",
   "metadata": {},
   "source": [
    "# Ejercicio5: Entrenamiento del modelo. (2p)\n",
    "Entrena un modelo Naive Bayes y otro de tu elección. Investiga sobre qué versiones de cada \n",
    "modelo es más adecuada para la tarea a realizar. Calcula el porcentaje de acierto del modelo \n",
    "entrenado. Si el porcentaje de acierto está por debajo del 70%, vuelve a atrás e intenta mejorar este \n",
    "resultado."
   ]
  },
  {
   "cell_type": "markdown",
   "id": "44691e81",
   "metadata": {},
   "source": [
    "### Naive Bayes"
   ]
  },
  {
   "cell_type": "code",
   "execution_count": null,
   "id": "2cb9172c",
   "metadata": {},
   "outputs": [],
   "source": [
    "sentiment_detector = MultinomialNB(alpha=1.0)  # alpha es el parámetro de suavizado\n",
    "sentiment_detector.fit(atributos_entrenamiento, objetivo_entrenamiento)\n",
    "\n",
    "predictions = sentiment_detector.predict(atributos_prueba)\n",
    "precision = sentiment_detector.score(atributos_prueba, objetivo_prueba)\n",
    "print(\"La precisión del modelo desarrollado es\", precision*100)\n",
    "\n"
   ]
  },
  {
   "cell_type": "markdown",
   "id": "38d19a42",
   "metadata": {},
   "source": [
    "### Regresion logística multinomial"
   ]
  },
  {
   "cell_type": "code",
   "execution_count": null,
   "id": "4f83555c",
   "metadata": {},
   "outputs": [],
   "source": [
    "# from sklearn.model_selection import train_test_split\n",
    "\n",
    "# X_entrenamiento, X_test, Y_entrenamiento, Y_test = train_test_split(X, Y, test_size=0.2, random_state=42)\n",
    "\n",
    "\n",
    "#Modelo de mi elección: modelo de regresión logística -> 'LogisticRegression'\n",
    "from sklearn.linear_model import LogisticRegression\n",
    "\n",
    "regresion_logistica = LogisticRegression(max_iter=1000, multi_class='multinomial', solver='lbfgs')\n",
    "regresion_logistica.fit(atributos_entrenamiento, objetivo_entrenamiento)\n",
    "\n",
    "#Realiza las predicciones con el conjunto de prueba\n",
    "predicciones_relog = regresion_logistica.predict(atributos_prueba)\n",
    "#Calcular la precisión del modelo\n",
    "precision_relog = regresion_logistica.score(atributos_prueba, objetivo_prueba)\n",
    "print(\"La precisión del modelo de regresión logística desarrollado es:\", precision_relog*100, \"%\")"
   ]
  },
  {
   "cell_type": "code",
   "execution_count": null,
   "id": "d47a5c52",
   "metadata": {},
   "outputs": [],
   "source": [
    "dataprueba = pd.read_csv('YamatoMebdi.csv', usecols = [\"text\"])\n",
    "# dp = dataprueba[1:5]\n",
    "limpiar_textodef(dataprueba)\n"
   ]
  },
  {
   "cell_type": "code",
   "execution_count": null,
   "id": "15891f6a",
   "metadata": {},
   "outputs": [],
   "source": [
    "limpiar_textodef(dataprueba)"
   ]
  },
  {
   "cell_type": "code",
   "execution_count": 46,
   "id": "ad600e09",
   "metadata": {},
   "outputs": [
    {
     "data": {
      "text/html": [
       "<div>\n",
       "<style scoped>\n",
       "    .dataframe tbody tr th:only-of-type {\n",
       "        vertical-align: middle;\n",
       "    }\n",
       "\n",
       "    .dataframe tbody tr th {\n",
       "        vertical-align: top;\n",
       "    }\n",
       "\n",
       "    .dataframe thead th {\n",
       "        text-align: right;\n",
       "    }\n",
       "</style>\n",
       "<table border=\"1\" class=\"dataframe\">\n",
       "  <thead>\n",
       "    <tr style=\"text-align: right;\">\n",
       "      <th></th>\n",
       "      <th>text</th>\n",
       "    </tr>\n",
       "  </thead>\n",
       "  <tbody>\n",
       "    <tr>\n",
       "      <th>0</th>\n",
       "      <td>stop genocid peopl stop ethnic cleans peopl st...</td>\n",
       "    </tr>\n",
       "    <tr>\n",
       "      <th>1</th>\n",
       "      <td>player chanc play game draft sting - room show...</td>\n",
       "    </tr>\n",
       "    <tr>\n",
       "      <th>2</th>\n",
       "      <td>piec togeth solid foundat close posit</td>\n",
       "    </tr>\n",
       "    <tr>\n",
       "      <th>3</th>\n",
       "      <td>back wall</td>\n",
       "    </tr>\n",
       "    <tr>\n",
       "      <th>4</th>\n",
       "      <td>sun shine bright</td>\n",
       "    </tr>\n",
       "    <tr>\n",
       "      <th>5</th>\n",
       "      <td>back day big carri tomorrow</td>\n",
       "    </tr>\n",
       "    <tr>\n",
       "      <th>6</th>\n",
       "      <td>send song ( ) guarante better pump gym</td>\n",
       "    </tr>\n",
       "    <tr>\n",
       "      <th>7</th>\n",
       "      <td>feel good</td>\n",
       "    </tr>\n",
       "    <tr>\n",
       "      <th>8</th>\n",
       "      <td>thank support fundrais - rais 6776 euro ! cont...</td>\n",
       "    </tr>\n",
       "    <tr>\n",
       "      <th>9</th>\n",
       "      <td>caught blue game admit tough , well fuck done boy</td>\n",
       "    </tr>\n",
       "    <tr>\n",
       "      <th>10</th>\n",
       "      <td>leeeeeeeet go blue</td>\n",
       "    </tr>\n",
       "    <tr>\n",
       "      <th>11</th>\n",
       "      <td>loss come , wors team today . put work came mu...</td>\n",
       "    </tr>\n",
       "    <tr>\n",
       "      <th>12</th>\n",
       "      <td>let make clear : love kameto karmin corp , syn...</td>\n",
       "    </tr>\n",
       "    <tr>\n",
       "      <th>13</th>\n",
       "      <td>feel bad mad , play versus us worst time . rej...</td>\n",
       "    </tr>\n",
       "    <tr>\n",
       "      <th>14</th>\n",
       "      <td>experi extract use go - result tough game , th...</td>\n",
       "    </tr>\n",
       "    <tr>\n",
       "      <th>15</th>\n",
       "      <td>hope g2 bring absolut best , want victori deli...</td>\n",
       "    </tr>\n",
       "    <tr>\n",
       "      <th>16</th>\n",
       "      <td>new meta</td>\n",
       "    </tr>\n",
       "    <tr>\n",
       "      <th>17</th>\n",
       "      <td>fnatic disciplin team today experi group show ...</td>\n",
       "    </tr>\n",
       "    <tr>\n",
       "      <th>18</th>\n",
       "      <td>let get shit let get shit let get shit let get...</td>\n",
       "    </tr>\n",
       "    <tr>\n",
       "      <th>19</th>\n",
       "      <td>feel good kc - grate</td>\n",
       "    </tr>\n",
       "    <tr>\n",
       "      <th>20</th>\n",
       "      <td>thank overwhelm support - still til 16th</td>\n",
       "    </tr>\n",
       "    <tr>\n",
       "      <th>21</th>\n",
       "      <td>raffl fundrais - fund go un crisi relief ( occ...</td>\n",
       "    </tr>\n",
       "    <tr>\n",
       "      <th>22</th>\n",
       "      <td>marc lamont</td>\n",
       "    </tr>\n",
       "    <tr>\n",
       "      <th>23</th>\n",
       "      <td>grate full support build dream team</td>\n",
       "    </tr>\n",
       "    <tr>\n",
       "      <th>24</th>\n",
       "      <td>oh yes</td>\n",
       "    </tr>\n",
       "    <tr>\n",
       "      <th>25</th>\n",
       "      <td>thank warm welcom home</td>\n",
       "    </tr>\n",
       "    <tr>\n",
       "      <th>26</th>\n",
       "      <td>go berlin reason cannot say</td>\n",
       "    </tr>\n",
       "    <tr>\n",
       "      <th>27</th>\n",
       "      <td>wish peac health new year know profession domi...</td>\n",
       "    </tr>\n",
       "    <tr>\n",
       "      <th>28</th>\n",
       "      <td>turn 28 today free palestin</td>\n",
       "    </tr>\n",
       "    <tr>\n",
       "      <th>29</th>\n",
       "      <td>big game big fun red side com</td>\n",
       "    </tr>\n",
       "  </tbody>\n",
       "</table>\n",
       "</div>"
      ],
      "text/plain": [
       "                                                 text\n",
       "0   stop genocid peopl stop ethnic cleans peopl st...\n",
       "1   player chanc play game draft sting - room show...\n",
       "2               piec togeth solid foundat close posit\n",
       "3                                           back wall\n",
       "4                                    sun shine bright\n",
       "5                         back day big carri tomorrow\n",
       "6              send song ( ) guarante better pump gym\n",
       "7                                           feel good\n",
       "8   thank support fundrais - rais 6776 euro ! cont...\n",
       "9   caught blue game admit tough , well fuck done boy\n",
       "10                                 leeeeeeeet go blue\n",
       "11  loss come , wors team today . put work came mu...\n",
       "12  let make clear : love kameto karmin corp , syn...\n",
       "13  feel bad mad , play versus us worst time . rej...\n",
       "14  experi extract use go - result tough game , th...\n",
       "15  hope g2 bring absolut best , want victori deli...\n",
       "16                                           new meta\n",
       "17  fnatic disciplin team today experi group show ...\n",
       "18  let get shit let get shit let get shit let get...\n",
       "19                               feel good kc - grate\n",
       "20           thank overwhelm support - still til 16th\n",
       "21  raffl fundrais - fund go un crisi relief ( occ...\n",
       "22                                        marc lamont\n",
       "23                grate full support build dream team\n",
       "24                                             oh yes\n",
       "25                             thank warm welcom home\n",
       "26                        go berlin reason cannot say\n",
       "27  wish peac health new year know profession domi...\n",
       "28                        turn 28 today free palestin\n",
       "29                      big game big fun red side com"
      ]
     },
     "execution_count": 46,
     "metadata": {},
     "output_type": "execute_result"
    }
   ],
   "source": [
    "from nltk.tokenize import TweetTokenizer\n",
    "from nltk.corpus import stopwords\n",
    "from nltk.stem import SnowballStemmer\n",
    "import re\n",
    "import demoji  # Para manejar emojis\n",
    "\n",
    "def limpiar_textodef2(dataset):\n",
    "    dataset['text'] = dataset['text'].astype(str)\n",
    "    \n",
    "    # Inicializar el tokenizador de tweets y el stemmer\n",
    "    tokenizer = TweetTokenizer(preserve_case=False)\n",
    "    stemmer = SnowballStemmer('english')\n",
    "    \n",
    "    # Obtener la lista de stop words en inglés\n",
    "    stop_words = set(stopwords.words('english'))\n",
    "    \n",
    "    # Iterar sobre cada fila del DataFrame\n",
    "    for index, row in dataset.iterrows():\n",
    "        # Obtener el texto de la fila\n",
    "        texto = row['text']\n",
    "        \n",
    "        # Eliminar menciones, hashtags y URLs\n",
    "        texto_procesado = re.sub(r'@[^\\s]+', '', texto)  # Eliminar menciones\n",
    "        texto_procesado = re.sub(r'#[^\\s]+', '', texto_procesado)  # Eliminar hashtags\n",
    "        texto_procesado = re.sub(r'http[^\\s]+|www[^\\s]+', '', texto_procesado)  # Eliminar URLs\n",
    "        \n",
    "        # Convertir emojis a texto\n",
    "        texto_procesado = demoji.replace(texto_procesado, repl='')\n",
    "        \n",
    "        # Convertir a minúsculas (puedes decidir si quieres mantener esta línea)\n",
    "        # texto_procesado = texto_procesado.lower()\n",
    "        \n",
    "        # Tokenización\n",
    "        tokens = tokenizer.tokenize(texto_procesado)\n",
    "        \n",
    "        # Eliminar stop words y aplicar lematización (stemming)\n",
    "        tokens = [stemmer.stem(word) for word in tokens if word not in stop_words]\n",
    "        \n",
    "        # Unir las palabras en una cadena separada por espacios\n",
    "        final_text = ' '.join(tokens)\n",
    "        \n",
    "        # Reemplazar el texto original en el DataFrame\n",
    "        dataset.at[index, 'text'] = final_text\n",
    "    \n",
    "    return dataset\n",
    "\n",
    "# Cargar datos de prueba\n",
    "dataprueba = pd.read_csv('YamatoMebdi.csv', usecols=[\"text\"])\n",
    "\n",
    "# Aplicar la función y modificar el DataFrame original\n",
    "limpiar_textodef2(dataprueba)\n",
    "\n",
    "# Imprimir el DataFrame modificado\n",
    "# print(dataprueba.head())\n"
   ]
  },
  {
   "cell_type": "code",
   "execution_count": 57,
   "id": "f74fe54e",
   "metadata": {
    "scrolled": true
   },
   "outputs": [
    {
     "name": "stdout",
     "output_type": "stream",
     "text": [
      "[9 8 6 4 3]\n"
     ]
    },
    {
     "data": {
      "image/png": "[encoded data removed]",
      "text/plain": [
       "<Figure size 640x480 with 1 Axes>"
      ]
     },
     "metadata": {},
     "output_type": "display_data"
    }
   ],
   "source": [
    "import matplotlib.pyplot as plt\n",
    "\n",
    "clasificador2(dataprueba)\n",
    "# pie(dataprueba['sentiments'])\n",
    "conteos = dataprueba['sentiments'].value_counts().values\n",
    "etiquetas = dataprueba['sentiments'].value_counts().index\n",
    "print(conteos)\n",
    "plt.pie(conteos, labels=etiquetas, autopct='%1.1f%%', startangle=90)\n",
    "plt.title('Distribución de Sentimientos')\n",
    "plt.show()\n"
   ]
  },
  {
   "cell_type": "code",
   "execution_count": 63,
   "id": "c0619920",
   "metadata": {
    "scrolled": true
   },
   "outputs": [
    {
     "name": "stdout",
     "output_type": "stream",
     "text": [
      "[11 11  5  2  1]\n"
     ]
    },
    {
     "data": {
      "image/png": "[encoded data removed]",
      "text/plain": [
       "<Figure size 640x480 with 1 Axes>"
      ]
     },
     "metadata": {},
     "output_type": "display_data"
    },
    {
     "name": "stdout",
     "output_type": "stream",
     "text": [
      "[18  8  2  2]\n"
     ]
    },
    {
     "data": {
      "image/png": "[encoded data removed]",
      "text/plain": [
       "<Figure size 640x480 with 1 Axes>"
      ]
     },
     "metadata": {},
     "output_type": "display_data"
    },
    {
     "name": "stdout",
     "output_type": "stream",
     "text": [
      "[13  7  6  3  2]\n"
     ]
    },
    {
     "data": {
      "image/png": "[encoded data removed]",
      "text/plain": [
       "<Figure size 640x480 with 1 Axes>"
      ]
     },
     "metadata": {},
     "output_type": "display_data"
    }
   ],
   "source": [
    "emerald = pd.read_csv('EmeraldRobinson.csv', usecols = [\"text\"])\n",
    "# dp = dataprueba[1:5]\n",
    "limpiar_textodef(emerald)\n",
    "clasificador2(emerald)\n",
    "emerald\n",
    "conteos = emerald['sentiments'].value_counts().values\n",
    "etiquetas = emerald['sentiments'].value_counts().index\n",
    "print(conteos)\n",
    "plt.pie(conteos, labels=etiquetas, autopct='%1.1f%%', startangle=90)\n",
    "plt.title('Distribución de Sentimientos')\n",
    "plt.show()\n",
    "\n",
    "\n",
    "\n"
   ]
  },
  {
   "cell_type": "code",
   "execution_count": 65,
   "id": "7aabdbaf",
   "metadata": {},
   "outputs": [
    {
     "name": "stdout",
     "output_type": "stream",
     "text": [
      "[18  8  2  2]\n"
     ]
    },
    {
     "data": {
      "image/png": "[encoded data removed]",
      "text/plain": [
       "<Figure size 640x480 with 1 Axes>"
      ]
     },
     "metadata": {},
     "output_type": "display_data"
    }
   ],
   "source": [
    "died = pd.read_csv('DiedSuddenly.csv', usecols = [\"text\"])\n",
    "# dp = dataprueba[1:5]\n",
    "limpiar_textodef(died)\n",
    "clasificador2(died)\n",
    "died\n",
    "conteos = died['sentiments'].value_counts().values\n",
    "etiquetas = died['sentiments'].value_counts().index\n",
    "print(conteos)\n",
    "plt.pie(conteos, labels=etiquetas, autopct='%1.1f%%', startangle=90)\n",
    "plt.title('Distribución de Sentimientos')\n",
    "plt.show()"
   ]
  },
  {
   "cell_type": "code",
   "execution_count": 67,
   "id": "a281010b",
   "metadata": {},
   "outputs": [
    {
     "name": "stdout",
     "output_type": "stream",
     "text": [
      "                                                 text sentiments\n",
      "0                      “ ” name stand alway overthink     Neutro\n",
      "1   feel detach peopl remov ... feel like whatev r...     Neutro\n",
      "2                                    offens feel tire     Neutro\n",
      "3                     let fuck peac caus can't find .      Hater\n",
      "4                                      ’ 10 cri ’ mad      Hater\n",
      "5                                        sick go shit      Hater\n",
      "6                   move fast ’ goal . move correct .   Contento\n",
      "7                   want meet someon els ’ point view     Neutro\n",
      "8   one thing … . genuin believ cut help & improv ...     Neutro\n",
      "9                             relationship ’ beg time     Neutro\n",
      "10               hate get attach let go hardest thing      Hater\n",
      "11              crazi song take back specif time life     Neutro\n",
      "12               appreci small shit cuz ’ usual giver      Hater\n",
      "13        put phone dnd & ignor whole world self care   Contento\n",
      "14                    hate like someon lose fuck mind      Hater\n",
      "15                                         feel ignor     Neutro\n",
      "16                          ’ okay let friendship die  Muy feliz\n",
      "17                     hate loud nois love loud music    Molesto\n",
      "18                  heart like mine come around twice     Neutro\n",
      "19                                  everyth hit night     Neutro\n",
      "20            unsaid thought liter heaviest shit ever    Molesto\n",
      "21                                            ignor ’     Neutro\n",
      "22                           crazi fast everyth chang   Contento\n",
      "23                                  hate second chanc      Hater\n",
      "24                 life much better money good outfit  Muy feliz\n",
      "25                                     much want bond   Contento\n",
      "26  want relationship work will learn person need ...   Contento\n",
      "27                            find much comfort music   Contento\n",
      "28                                      obsess improv     Neutro\n",
      "29                        accept situat best way move  Muy feliz\n",
      "30                           trust peopl quit traumat     Neutro\n",
      "[13  7  6  3  2]\n"
     ]
    },
    {
     "data": {
      "image/png": "[encoded data removed]",
      "text/plain": [
       "<Figure size 640x480 with 1 Axes>"
      ]
     },
     "metadata": {},
     "output_type": "display_data"
    }
   ],
   "source": [
    "nose = pd.read_csv('nose.csv', usecols = [\"text\"])\n",
    "# dp = dataprueba[1:5]\n",
    "limpiar_textodef(nose)\n",
    "clasificador2(nose)\n",
    "print(nose)\n",
    "conteos = nose['sentiments'].value_counts().values\n",
    "etiquetas = nose['sentiments'].value_counts().index\n",
    "print(conteos)\n",
    "plt.pie(conteos, labels=etiquetas, autopct='%1.1f%%', startangle=90)\n",
    "plt.title('Distribución de Sentimientos')\n",
    "plt.show()"
   ]
  },
  {
   "cell_type": "code",
   "execution_count": 68,
   "id": "92bf3fbe",
   "metadata": {},
   "outputs": [
    {
     "name": "stdout",
     "output_type": "stream",
     "text": [
      "                                                 text sentiments\n",
      "0   must read thread ’ behind mass third world mig...    Molesto\n",
      "1   yes want us announc polici enforc tri get know...     Neutro\n",
      "2   tunnel rabbi help ghislain maxwel surpris http...     Neutro\n",
      "3   jfk assassin 50 year ago someth refus let amer...     Neutro\n",
      "4   california scott weiner ( famous tran kid bill...   Contento\n",
      "5   would laugh true https://twitter.com/sallymayw...   Contento\n",
      "6   hospit gaza overflow israel bomb peopl wait fo...     Neutro\n",
      "7   thread claim founder hitler ss unit jewish sou...   Contento\n",
      "8   isra tell word took land palestin light joy re...  Muy feliz\n",
      "9           isra soldier punch beat palestinian women     Neutro\n",
      "10  asylum seeker suppos seek asylum countri close...     Neutro\n",
      "11      teen got lucki surviv suffer tortur state die     Neutro\n",
      "12  humili ritual https://twitter.com/returnofkapp...     Neutro\n",
      "13                 someth tell theft come asain femal     Neutro\n",
      "14  wear mask surpris trash human https://twitter....     Neutro\n",
      "15                                     “ innoc gaza ”     Neutro\n",
      "16  support texa ’ right defend border biden abil ...   Contento\n",
      "17  straight white male america join armi either g...    Molesto\n",
      "18  american peopl want close border keep fentanyl...     Neutro\n",
      "19  great thread show israel regular abus palestin...   Contento\n",
      "20  stand texa https://twitter.com/gregabbott_tx/s...     Neutro\n",
      "21  autist kid act like would smack shit https://t...    Molesto\n",
      "22  amaz mani random peopl internet ask money take...    Molesto\n",
      "23  resid san francisco sick crime take matter han...      Hater\n",
      "24                isra laugh great time kill children  Muy feliz\n",
      "25  globalist tri bribe kari lake run offic bigger...     Neutro\n",
      "26  thank stand communist tri destroy countri http...    Molesto\n",
      "27  bomb terrorist scumbag https://twitter.com/drl...     Neutro\n",
      "28           tran sexual pervers nowher near children   Contento\n",
      "[15  6  5  2  1]\n"
     ]
    },
    {
     "data": {
      "image/png": "[encoded data removed]",
      "text/plain": [
       "<Figure size 640x480 with 1 Axes>"
      ]
     },
     "metadata": {},
     "output_type": "display_data"
    }
   ],
   "source": [
    "jake = pd.read_csv('Jake.csv', usecols = [\"text\"])\n",
    "# dp = dataprueba[1:5]\n",
    "limpiar_textodef(jake)\n",
    "clasificador2(jake)\n",
    "print(jake)\n",
    "conteos = jake['sentiments'].value_counts().values\n",
    "etiquetas = jake['sentiments'].value_counts().index\n",
    "print(conteos)\n",
    "plt.pie(conteos, labels=etiquetas, autopct='%1.1f%%', startangle=90)\n",
    "plt.title('Distribución de Sentimientos')\n",
    "plt.show()"
   ]
  }
 ],
 "metadata": {
  "kernelspec": {
   "display_name": "Python 3 (ipykernel)",
   "language": "python",
   "name": "python3"
  },
  "language_info": {
   "codemirror_mode": {
    "name": "ipython",
    "version": 3
   },
   "file_extension": ".py",
   "mimetype": "text/x-python",
   "name": "python",
   "nbconvert_exporter": "python",
   "pygments_lexer": "ipython3",
   "version": "3.11.5"
  }
 },
 "nbformat": 4,
 "nbformat_minor": 5
}
